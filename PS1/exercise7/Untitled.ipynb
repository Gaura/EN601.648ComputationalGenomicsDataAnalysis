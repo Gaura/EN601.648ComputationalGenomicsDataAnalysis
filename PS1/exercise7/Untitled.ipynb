{
 "cells": [
  {
   "cell_type": "code",
   "execution_count": 1,
   "metadata": {},
   "outputs": [],
   "source": [
    "import sys\n",
    "import os\n",
    "import argparse\n",
    "import numpy as np\n",
    "import pandas as pd\n",
    "from sklearn.linear_model import LogisticRegression\n",
    "\n",
    "from statsmodels.discrete.discrete_model import Logit\n",
    "from statsmodels.stats.multitest import multipletests\n",
    "from sklearn.linear_model import Ridge\n"
   ]
  },
  {
   "cell_type": "code",
   "execution_count": 2,
   "metadata": {},
   "outputs": [],
   "source": [
    "# exercist 7 - ridge regression\n",
    "\n",
    "train_exp = pd.read_csv('train_expression.csv', sep=',', index_col = 0)\n",
    "train_y   = pd.read_csv('train_phen.csv', sep=',', index_col = 0)\n",
    "\n",
    "train_exp = np.array(train_exp[train_y.index])\n",
    "train_y   = np.array(train_y['V1'])\n",
    "\n",
    "test_exp = pd.read_csv('test_expression.csv', sep=',', index_col = 0)\n",
    "test_y   = pd.read_csv('test_phen.csv', sep=',', index_col = 0)\n",
    "#test_exp = test_exp[test_exp.columns[:50]]\n",
    "\n",
    "test_exp = np.array(test_exp[test_y.index])\n",
    "test_y   = np.array(test_y['V1'])\n"
   ]
  },
  {
   "cell_type": "code",
   "execution_count": 60,
   "metadata": {},
   "outputs": [],
   "source": [
    "R2 = []\n",
    "for alpha in np.arange(253000,255000,100):\n",
    "    ml = Ridge(alpha=alpha)\n",
    "    ml.fit(train_exp.transpose(), train_y)\n",
    "    yhat = ml.predict(test_exp.transpose())\n",
    "    R2.append(np.sum([x**2 for x in test_y - yhat]))"
   ]
  },
  {
   "cell_type": "code",
   "execution_count": 61,
   "metadata": {},
   "outputs": [
    {
     "data": {
      "text/plain": [
       "5"
      ]
     },
     "execution_count": 61,
     "metadata": {},
     "output_type": "execute_result"
    }
   ],
   "source": [
    "np.argmin(np.array(R2))"
   ]
  },
  {
   "cell_type": "code",
   "execution_count": 82,
   "metadata": {},
   "outputs": [
    {
     "data": {
      "text/plain": [
       "3"
      ]
     },
     "execution_count": 82,
     "metadata": {},
     "output_type": "execute_result"
    }
   ],
   "source": [
    "np.arange(1,10,1)"
   ]
  },
  {
   "cell_type": "code",
   "execution_count": 65,
   "metadata": {},
   "outputs": [],
   "source": [
    "model = Ridge(alpha=253300)\n",
    "model.fit(train_exp.transpose(), train_y)\n",
    "yhat = model.predict(test_exp.transpose())"
   ]
  },
  {
   "cell_type": "code",
   "execution_count": 80,
   "metadata": {},
   "outputs": [
    {
     "data": {
      "text/plain": [
       "-0.004597840765753773"
      ]
     },
     "execution_count": 80,
     "metadata": {},
     "output_type": "execute_result"
    }
   ],
   "source": [
    "model.coef_[0][1]"
   ]
  },
  {
   "cell_type": "code",
   "execution_count": 79,
   "metadata": {},
   "outputs": [
    {
     "data": {
      "text/html": [
       "<div>\n",
       "<style scoped>\n",
       "    .dataframe tbody tr th:only-of-type {\n",
       "        vertical-align: middle;\n",
       "    }\n",
       "\n",
       "    .dataframe tbody tr th {\n",
       "        vertical-align: top;\n",
       "    }\n",
       "\n",
       "    .dataframe thead th {\n",
       "        text-align: right;\n",
       "    }\n",
       "</style>\n",
       "<table border=\"1\" class=\"dataframe\">\n",
       "  <thead>\n",
       "    <tr style=\"text-align: right;\">\n",
       "      <th></th>\n",
       "      <th>TCGA.A1.A0SK.01A</th>\n",
       "      <th>TCGA.A1.A0SM.01A</th>\n",
       "      <th>TCGA.A2.A04P.01A</th>\n",
       "      <th>TCGA.A2.A04Q.01A</th>\n",
       "      <th>TCGA.A2.A04R.01A</th>\n",
       "      <th>TCGA.A2.A0CM.01A</th>\n",
       "      <th>TCGA.A2.A0D0.01A</th>\n",
       "      <th>TCGA.A2.A0D2.01A</th>\n",
       "      <th>TCGA.A2.A0D4.01A</th>\n",
       "      <th>TCGA.A2.A0ER.01A</th>\n",
       "      <th>...</th>\n",
       "      <th>TCGA.E2.A14N.01A</th>\n",
       "      <th>TCGA.E2.A14O.01A</th>\n",
       "      <th>TCGA.E2.A14R.01A</th>\n",
       "      <th>TCGA.E2.A14S.01A</th>\n",
       "      <th>TCGA.E2.A14X.01A</th>\n",
       "      <th>TCGA.E2.A14Y.01A</th>\n",
       "      <th>TCGA.E2.A150.01A</th>\n",
       "      <th>TCGA.E2.A158.01A</th>\n",
       "      <th>TCGA.E2.A159.01A</th>\n",
       "      <th>TCGA.E2.A15M.01A</th>\n",
       "    </tr>\n",
       "  </thead>\n",
       "  <tbody>\n",
       "    <tr>\n",
       "      <th>ELMO2</th>\n",
       "      <td>1.125417</td>\n",
       "      <td>1.379833</td>\n",
       "      <td>-1.234667</td>\n",
       "      <td>-0.740583</td>\n",
       "      <td>-0.538917</td>\n",
       "      <td>-0.166000</td>\n",
       "      <td>0.535333</td>\n",
       "      <td>-0.647750</td>\n",
       "      <td>-0.556833</td>\n",
       "      <td>-0.030667</td>\n",
       "      <td>...</td>\n",
       "      <td>-1.211750</td>\n",
       "      <td>-0.014083</td>\n",
       "      <td>-1.361583</td>\n",
       "      <td>0.831500</td>\n",
       "      <td>0.517083</td>\n",
       "      <td>-0.200250</td>\n",
       "      <td>0.054583</td>\n",
       "      <td>-0.90050</td>\n",
       "      <td>0.169167</td>\n",
       "      <td>0.631833</td>\n",
       "    </tr>\n",
       "    <tr>\n",
       "      <th>CREB3L1</th>\n",
       "      <td>-1.528000</td>\n",
       "      <td>1.689250</td>\n",
       "      <td>0.075750</td>\n",
       "      <td>-0.653250</td>\n",
       "      <td>0.067750</td>\n",
       "      <td>-0.583500</td>\n",
       "      <td>-1.140750</td>\n",
       "      <td>-0.719250</td>\n",
       "      <td>0.268750</td>\n",
       "      <td>0.590000</td>\n",
       "      <td>...</td>\n",
       "      <td>-0.853250</td>\n",
       "      <td>0.125750</td>\n",
       "      <td>-1.208750</td>\n",
       "      <td>-1.326500</td>\n",
       "      <td>-1.508750</td>\n",
       "      <td>-0.359250</td>\n",
       "      <td>-0.387000</td>\n",
       "      <td>-1.18725</td>\n",
       "      <td>-0.414250</td>\n",
       "      <td>0.709500</td>\n",
       "    </tr>\n",
       "    <tr>\n",
       "      <th>RPS11</th>\n",
       "      <td>0.082750</td>\n",
       "      <td>-0.935125</td>\n",
       "      <td>-0.009250</td>\n",
       "      <td>-0.017000</td>\n",
       "      <td>0.506375</td>\n",
       "      <td>-0.124500</td>\n",
       "      <td>-0.791250</td>\n",
       "      <td>1.054625</td>\n",
       "      <td>-0.352875</td>\n",
       "      <td>-0.214500</td>\n",
       "      <td>...</td>\n",
       "      <td>-0.293500</td>\n",
       "      <td>-0.142625</td>\n",
       "      <td>0.067250</td>\n",
       "      <td>0.078875</td>\n",
       "      <td>-0.435000</td>\n",
       "      <td>0.512125</td>\n",
       "      <td>-0.243750</td>\n",
       "      <td>1.32700</td>\n",
       "      <td>-1.101875</td>\n",
       "      <td>0.516500</td>\n",
       "    </tr>\n",
       "    <tr>\n",
       "      <th>PNMA1</th>\n",
       "      <td>0.850750</td>\n",
       "      <td>0.549250</td>\n",
       "      <td>-1.818750</td>\n",
       "      <td>-0.169500</td>\n",
       "      <td>1.079000</td>\n",
       "      <td>0.056250</td>\n",
       "      <td>-1.005250</td>\n",
       "      <td>-0.357750</td>\n",
       "      <td>-0.100500</td>\n",
       "      <td>0.928500</td>\n",
       "      <td>...</td>\n",
       "      <td>-1.057500</td>\n",
       "      <td>-0.085000</td>\n",
       "      <td>-1.497750</td>\n",
       "      <td>0.202500</td>\n",
       "      <td>-0.210500</td>\n",
       "      <td>-0.619500</td>\n",
       "      <td>-0.063000</td>\n",
       "      <td>-0.83950</td>\n",
       "      <td>-1.224500</td>\n",
       "      <td>0.179750</td>\n",
       "    </tr>\n",
       "    <tr>\n",
       "      <th>MMP2</th>\n",
       "      <td>-1.674000</td>\n",
       "      <td>1.150667</td>\n",
       "      <td>-1.157167</td>\n",
       "      <td>1.188000</td>\n",
       "      <td>-0.830833</td>\n",
       "      <td>-0.043167</td>\n",
       "      <td>-0.769833</td>\n",
       "      <td>-0.218167</td>\n",
       "      <td>-1.704833</td>\n",
       "      <td>-1.333833</td>\n",
       "      <td>...</td>\n",
       "      <td>-1.894333</td>\n",
       "      <td>0.321667</td>\n",
       "      <td>-1.463167</td>\n",
       "      <td>-1.403333</td>\n",
       "      <td>-0.106333</td>\n",
       "      <td>-1.169000</td>\n",
       "      <td>-0.136000</td>\n",
       "      <td>-2.12800</td>\n",
       "      <td>0.752000</td>\n",
       "      <td>0.538833</td>\n",
       "    </tr>\n",
       "  </tbody>\n",
       "</table>\n",
       "<p>5 rows × 145 columns</p>\n",
       "</div>"
      ],
      "text/plain": [
       "         TCGA.A1.A0SK.01A  TCGA.A1.A0SM.01A  TCGA.A2.A04P.01A  \\\n",
       "ELMO2            1.125417          1.379833         -1.234667   \n",
       "CREB3L1         -1.528000          1.689250          0.075750   \n",
       "RPS11            0.082750         -0.935125         -0.009250   \n",
       "PNMA1            0.850750          0.549250         -1.818750   \n",
       "MMP2            -1.674000          1.150667         -1.157167   \n",
       "\n",
       "         TCGA.A2.A04Q.01A  TCGA.A2.A04R.01A  TCGA.A2.A0CM.01A  \\\n",
       "ELMO2           -0.740583         -0.538917         -0.166000   \n",
       "CREB3L1         -0.653250          0.067750         -0.583500   \n",
       "RPS11           -0.017000          0.506375         -0.124500   \n",
       "PNMA1           -0.169500          1.079000          0.056250   \n",
       "MMP2             1.188000         -0.830833         -0.043167   \n",
       "\n",
       "         TCGA.A2.A0D0.01A  TCGA.A2.A0D2.01A  TCGA.A2.A0D4.01A  \\\n",
       "ELMO2            0.535333         -0.647750         -0.556833   \n",
       "CREB3L1         -1.140750         -0.719250          0.268750   \n",
       "RPS11           -0.791250          1.054625         -0.352875   \n",
       "PNMA1           -1.005250         -0.357750         -0.100500   \n",
       "MMP2            -0.769833         -0.218167         -1.704833   \n",
       "\n",
       "         TCGA.A2.A0ER.01A  ...  TCGA.E2.A14N.01A  TCGA.E2.A14O.01A  \\\n",
       "ELMO2           -0.030667  ...         -1.211750         -0.014083   \n",
       "CREB3L1          0.590000  ...         -0.853250          0.125750   \n",
       "RPS11           -0.214500  ...         -0.293500         -0.142625   \n",
       "PNMA1            0.928500  ...         -1.057500         -0.085000   \n",
       "MMP2            -1.333833  ...         -1.894333          0.321667   \n",
       "\n",
       "         TCGA.E2.A14R.01A  TCGA.E2.A14S.01A  TCGA.E2.A14X.01A  \\\n",
       "ELMO2           -1.361583          0.831500          0.517083   \n",
       "CREB3L1         -1.208750         -1.326500         -1.508750   \n",
       "RPS11            0.067250          0.078875         -0.435000   \n",
       "PNMA1           -1.497750          0.202500         -0.210500   \n",
       "MMP2            -1.463167         -1.403333         -0.106333   \n",
       "\n",
       "         TCGA.E2.A14Y.01A  TCGA.E2.A150.01A  TCGA.E2.A158.01A  \\\n",
       "ELMO2           -0.200250          0.054583          -0.90050   \n",
       "CREB3L1         -0.359250         -0.387000          -1.18725   \n",
       "RPS11            0.512125         -0.243750           1.32700   \n",
       "PNMA1           -0.619500         -0.063000          -0.83950   \n",
       "MMP2            -1.169000         -0.136000          -2.12800   \n",
       "\n",
       "         TCGA.E2.A159.01A  TCGA.E2.A15M.01A  \n",
       "ELMO2            0.169167          0.631833  \n",
       "CREB3L1         -0.414250          0.709500  \n",
       "RPS11           -1.101875          0.516500  \n",
       "PNMA1           -1.224500          0.179750  \n",
       "MMP2             0.752000          0.538833  \n",
       "\n",
       "[5 rows x 145 columns]"
      ]
     },
     "execution_count": 79,
     "metadata": {},
     "output_type": "execute_result"
    }
   ],
   "source": [
    "train_exp.head()"
   ]
  }
 ],
 "metadata": {
  "kernelspec": {
   "display_name": "Python 3",
   "language": "python",
   "name": "python3"
  },
  "language_info": {
   "codemirror_mode": {
    "name": "ipython",
    "version": 3
   },
   "file_extension": ".py",
   "mimetype": "text/x-python",
   "name": "python",
   "nbconvert_exporter": "python",
   "pygments_lexer": "ipython3",
   "version": "3.6.8"
  }
 },
 "nbformat": 4,
 "nbformat_minor": 2
}
