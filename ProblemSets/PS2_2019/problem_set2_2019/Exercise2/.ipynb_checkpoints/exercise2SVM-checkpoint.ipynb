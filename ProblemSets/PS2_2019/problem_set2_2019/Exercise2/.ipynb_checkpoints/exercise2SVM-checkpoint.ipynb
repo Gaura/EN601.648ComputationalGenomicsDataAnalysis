{
 "cells": [
  {
   "cell_type": "code",
   "execution_count": 25,
   "metadata": {},
   "outputs": [],
   "source": [
    "import sys\n",
    "import os\n",
    "import argparse\n",
    "import numpy as np\n",
    "import pandas as pd\n",
    "\n",
    "from scipy.stats import ttest_ind\n",
    "from sklearn.svm import SVC\n",
    "from sklearn.decomposition import PCA\n",
    "from matplotlib import pyplot as plt\n",
    "\n",
    "from sklearn.cluster import KMeans"
   ]
  },
  {
   "cell_type": "code",
   "execution_count": 16,
   "metadata": {},
   "outputs": [],
   "source": [
    "features = pd.read_csv('trainFeatures.txt', header = None, sep = '\\t')"
   ]
  },
  {
   "cell_type": "code",
   "execution_count": 17,
   "metadata": {},
   "outputs": [
    {
     "data": {
      "text/html": [
       "<div>\n",
       "<style scoped>\n",
       "    .dataframe tbody tr th:only-of-type {\n",
       "        vertical-align: middle;\n",
       "    }\n",
       "\n",
       "    .dataframe tbody tr th {\n",
       "        vertical-align: top;\n",
       "    }\n",
       "\n",
       "    .dataframe thead th {\n",
       "        text-align: right;\n",
       "    }\n",
       "</style>\n",
       "<table border=\"1\" class=\"dataframe\">\n",
       "  <thead>\n",
       "    <tr style=\"text-align: right;\">\n",
       "      <th></th>\n",
       "      <th>0</th>\n",
       "      <th>1</th>\n",
       "      <th>2</th>\n",
       "      <th>3</th>\n",
       "      <th>4</th>\n",
       "      <th>5</th>\n",
       "      <th>6</th>\n",
       "      <th>7</th>\n",
       "      <th>8</th>\n",
       "      <th>9</th>\n",
       "      <th>...</th>\n",
       "      <th>326</th>\n",
       "      <th>327</th>\n",
       "      <th>328</th>\n",
       "      <th>329</th>\n",
       "      <th>330</th>\n",
       "      <th>331</th>\n",
       "      <th>332</th>\n",
       "      <th>333</th>\n",
       "      <th>334</th>\n",
       "      <th>335</th>\n",
       "    </tr>\n",
       "  </thead>\n",
       "  <tbody>\n",
       "    <tr>\n",
       "      <th>0</th>\n",
       "      <td>1.176158</td>\n",
       "      <td>-0.812989</td>\n",
       "      <td>-0.514347</td>\n",
       "      <td>0.837944</td>\n",
       "      <td>-0.521704</td>\n",
       "      <td>0.366685</td>\n",
       "      <td>0.590899</td>\n",
       "      <td>-0.699376</td>\n",
       "      <td>1.027509</td>\n",
       "      <td>-0.715504</td>\n",
       "      <td>...</td>\n",
       "      <td>-0.398207</td>\n",
       "      <td>-0.595737</td>\n",
       "      <td>-0.533395</td>\n",
       "      <td>-0.568226</td>\n",
       "      <td>-0.569948</td>\n",
       "      <td>-0.307715</td>\n",
       "      <td>1.109794</td>\n",
       "      <td>1.482133</td>\n",
       "      <td>-0.549711</td>\n",
       "      <td>-0.443125</td>\n",
       "    </tr>\n",
       "    <tr>\n",
       "      <th>1</th>\n",
       "      <td>-0.473619</td>\n",
       "      <td>-0.812989</td>\n",
       "      <td>1.894061</td>\n",
       "      <td>-2.088245</td>\n",
       "      <td>0.004354</td>\n",
       "      <td>0.076459</td>\n",
       "      <td>0.590899</td>\n",
       "      <td>-0.699376</td>\n",
       "      <td>-0.527337</td>\n",
       "      <td>1.479448</td>\n",
       "      <td>...</td>\n",
       "      <td>-0.398207</td>\n",
       "      <td>-0.595737</td>\n",
       "      <td>-0.533395</td>\n",
       "      <td>1.129428</td>\n",
       "      <td>1.050491</td>\n",
       "      <td>-0.307715</td>\n",
       "      <td>-0.552604</td>\n",
       "      <td>-0.451664</td>\n",
       "      <td>2.625912</td>\n",
       "      <td>0.713894</td>\n",
       "    </tr>\n",
       "    <tr>\n",
       "      <th>2</th>\n",
       "      <td>-1.133529</td>\n",
       "      <td>0.177905</td>\n",
       "      <td>0.087755</td>\n",
       "      <td>-1.112849</td>\n",
       "      <td>0.004354</td>\n",
       "      <td>3.268939</td>\n",
       "      <td>2.417124</td>\n",
       "      <td>-2.132165</td>\n",
       "      <td>-1.045619</td>\n",
       "      <td>1.040457</td>\n",
       "      <td>...</td>\n",
       "      <td>-0.398207</td>\n",
       "      <td>-0.595737</td>\n",
       "      <td>-0.533395</td>\n",
       "      <td>-0.568226</td>\n",
       "      <td>-0.569948</td>\n",
       "      <td>-0.307715</td>\n",
       "      <td>-0.552604</td>\n",
       "      <td>-0.451664</td>\n",
       "      <td>-0.549711</td>\n",
       "      <td>-0.443125</td>\n",
       "    </tr>\n",
       "    <tr>\n",
       "      <th>3</th>\n",
       "      <td>0.846203</td>\n",
       "      <td>0.177905</td>\n",
       "      <td>0.689857</td>\n",
       "      <td>0.837944</td>\n",
       "      <td>-0.521704</td>\n",
       "      <td>-0.503991</td>\n",
       "      <td>-1.235326</td>\n",
       "      <td>0.255816</td>\n",
       "      <td>2.064072</td>\n",
       "      <td>-1.593484</td>\n",
       "      <td>...</td>\n",
       "      <td>-0.398207</td>\n",
       "      <td>0.897038</td>\n",
       "      <td>3.320872</td>\n",
       "      <td>-0.568226</td>\n",
       "      <td>-0.569948</td>\n",
       "      <td>-0.307715</td>\n",
       "      <td>-0.552604</td>\n",
       "      <td>1.482133</td>\n",
       "      <td>1.038100</td>\n",
       "      <td>1.870914</td>\n",
       "    </tr>\n",
       "    <tr>\n",
       "      <th>4</th>\n",
       "      <td>-0.143663</td>\n",
       "      <td>3.150588</td>\n",
       "      <td>-1.116449</td>\n",
       "      <td>-1.600547</td>\n",
       "      <td>2.634641</td>\n",
       "      <td>1.817812</td>\n",
       "      <td>-0.322213</td>\n",
       "      <td>0.733412</td>\n",
       "      <td>-1.563901</td>\n",
       "      <td>0.162477</td>\n",
       "      <td>...</td>\n",
       "      <td>-0.398207</td>\n",
       "      <td>-0.595737</td>\n",
       "      <td>-0.533395</td>\n",
       "      <td>2.827083</td>\n",
       "      <td>-0.569948</td>\n",
       "      <td>-0.307715</td>\n",
       "      <td>-0.552604</td>\n",
       "      <td>-0.451664</td>\n",
       "      <td>1.038100</td>\n",
       "      <td>-0.443125</td>\n",
       "    </tr>\n",
       "  </tbody>\n",
       "</table>\n",
       "<p>5 rows × 336 columns</p>\n",
       "</div>"
      ],
      "text/plain": [
       "        0         1         2         3         4         5         6    \\\n",
       "0  1.176158 -0.812989 -0.514347  0.837944 -0.521704  0.366685  0.590899   \n",
       "1 -0.473619 -0.812989  1.894061 -2.088245  0.004354  0.076459  0.590899   \n",
       "2 -1.133529  0.177905  0.087755 -1.112849  0.004354  3.268939  2.417124   \n",
       "3  0.846203  0.177905  0.689857  0.837944 -0.521704 -0.503991 -1.235326   \n",
       "4 -0.143663  3.150588 -1.116449 -1.600547  2.634641  1.817812 -0.322213   \n",
       "\n",
       "        7         8         9    ...       326       327       328       329  \\\n",
       "0 -0.699376  1.027509 -0.715504  ... -0.398207 -0.595737 -0.533395 -0.568226   \n",
       "1 -0.699376 -0.527337  1.479448  ... -0.398207 -0.595737 -0.533395  1.129428   \n",
       "2 -2.132165 -1.045619  1.040457  ... -0.398207 -0.595737 -0.533395 -0.568226   \n",
       "3  0.255816  2.064072 -1.593484  ... -0.398207  0.897038  3.320872 -0.568226   \n",
       "4  0.733412 -1.563901  0.162477  ... -0.398207 -0.595737 -0.533395  2.827083   \n",
       "\n",
       "        330       331       332       333       334       335  \n",
       "0 -0.569948 -0.307715  1.109794  1.482133 -0.549711 -0.443125  \n",
       "1  1.050491 -0.307715 -0.552604 -0.451664  2.625912  0.713894  \n",
       "2 -0.569948 -0.307715 -0.552604 -0.451664 -0.549711 -0.443125  \n",
       "3 -0.569948 -0.307715 -0.552604  1.482133  1.038100  1.870914  \n",
       "4 -0.569948 -0.307715 -0.552604 -0.451664  1.038100 -0.443125  \n",
       "\n",
       "[5 rows x 336 columns]"
      ]
     },
     "execution_count": 17,
     "metadata": {},
     "output_type": "execute_result"
    }
   ],
   "source": [
    "features.head()"
   ]
  },
  {
   "cell_type": "code",
   "execution_count": 22,
   "metadata": {},
   "outputs": [],
   "source": [
    "labels = pd.read_csv('trainLabel.txt', header = None, sep = ' ')"
   ]
  },
  {
   "cell_type": "code",
   "execution_count": 23,
   "metadata": {},
   "outputs": [
    {
     "data": {
      "text/html": [
       "<div>\n",
       "<style scoped>\n",
       "    .dataframe tbody tr th:only-of-type {\n",
       "        vertical-align: middle;\n",
       "    }\n",
       "\n",
       "    .dataframe tbody tr th {\n",
       "        vertical-align: top;\n",
       "    }\n",
       "\n",
       "    .dataframe thead th {\n",
       "        text-align: right;\n",
       "    }\n",
       "</style>\n",
       "<table border=\"1\" class=\"dataframe\">\n",
       "  <thead>\n",
       "    <tr style=\"text-align: right;\">\n",
       "      <th></th>\n",
       "      <th>0</th>\n",
       "      <th>1</th>\n",
       "      <th>2</th>\n",
       "    </tr>\n",
       "  </thead>\n",
       "  <tbody>\n",
       "    <tr>\n",
       "      <th>0</th>\n",
       "      <td>1</td>\n",
       "      <td>train.1</td>\n",
       "      <td>N</td>\n",
       "    </tr>\n",
       "    <tr>\n",
       "      <th>1</th>\n",
       "      <td>2</td>\n",
       "      <td>train.2</td>\n",
       "      <td>N</td>\n",
       "    </tr>\n",
       "    <tr>\n",
       "      <th>2</th>\n",
       "      <td>3</td>\n",
       "      <td>train.3</td>\n",
       "      <td>N</td>\n",
       "    </tr>\n",
       "    <tr>\n",
       "      <th>3</th>\n",
       "      <td>4</td>\n",
       "      <td>train.4</td>\n",
       "      <td>N</td>\n",
       "    </tr>\n",
       "    <tr>\n",
       "      <th>4</th>\n",
       "      <td>5</td>\n",
       "      <td>train.5</td>\n",
       "      <td>N</td>\n",
       "    </tr>\n",
       "  </tbody>\n",
       "</table>\n",
       "</div>"
      ],
      "text/plain": [
       "   0        1  2\n",
       "0  1  train.1  N\n",
       "1  2  train.2  N\n",
       "2  3  train.3  N\n",
       "3  4  train.4  N\n",
       "4  5  train.5  N"
      ]
     },
     "execution_count": 23,
     "metadata": {},
     "output_type": "execute_result"
    }
   ],
   "source": [
    "labels.head()"
   ]
  },
  {
   "cell_type": "code",
   "execution_count": 24,
   "metadata": {},
   "outputs": [],
   "source": [
    "model = SVC()"
   ]
  },
  {
   "cell_type": "code",
   "execution_count": 38,
   "metadata": {},
   "outputs": [
    {
     "name": "stderr",
     "output_type": "stream",
     "text": [
      "c:\\program files\\python\\lib\\site-packages\\ipykernel_launcher.py:1: FutureWarning: Method .as_matrix will be removed in a future version. Use .values instead.\n",
      "  \"\"\"Entry point for launching an IPython kernel.\n"
     ]
    }
   ],
   "source": [
    "f = features.as_matrix()\n",
    "l = labels.iloc[:][2].array"
   ]
  },
  {
   "cell_type": "code",
   "execution_count": 39,
   "metadata": {},
   "outputs": [
    {
     "name": "stderr",
     "output_type": "stream",
     "text": [
      "C:\\Users\\Gaurav\\AppData\\Roaming\\Python\\Python36\\site-packages\\sklearn\\svm\\base.py:196: FutureWarning: The default value of gamma will change from 'auto' to 'scale' in version 0.22 to account better for unscaled features. Set gamma explicitly to 'auto' or 'scale' to avoid this warning.\n",
      "  \"avoid this warning.\", FutureWarning)\n"
     ]
    },
    {
     "data": {
      "text/plain": [
       "SVC(C=1.0, cache_size=200, class_weight=None, coef0=0.0,\n",
       "  decision_function_shape='ovr', degree=3, gamma='auto_deprecated',\n",
       "  kernel='rbf', max_iter=-1, probability=False, random_state=None,\n",
       "  shrinking=True, tol=0.001, verbose=False)"
      ]
     },
     "execution_count": 39,
     "metadata": {},
     "output_type": "execute_result"
    }
   ],
   "source": [
    "model.fit(f,l)"
   ]
  },
  {
   "cell_type": "code",
   "execution_count": 40,
   "metadata": {},
   "outputs": [
    {
     "data": {
      "text/plain": [
       "<bound method BaseEstimator.get_params of SVC(C=1.0, cache_size=200, class_weight=None, coef0=0.0,\n",
       "  decision_function_shape='ovr', degree=3, gamma='auto_deprecated',\n",
       "  kernel='rbf', max_iter=-1, probability=False, random_state=None,\n",
       "  shrinking=True, tol=0.001, verbose=False)>"
      ]
     },
     "execution_count": 40,
     "metadata": {},
     "output_type": "execute_result"
    }
   ],
   "source": [
    "model.get_params"
   ]
  },
  {
   "cell_type": "code",
   "execution_count": 42,
   "metadata": {},
   "outputs": [
    {
     "name": "stderr",
     "output_type": "stream",
     "text": [
      "c:\\program files\\python\\lib\\site-packages\\ipykernel_launcher.py:2: FutureWarning: Method .as_matrix will be removed in a future version. Use .values instead.\n",
      "  \n"
     ]
    }
   ],
   "source": [
    "testf = pd.read_csv('testFeatures.txt', header = None, sep = '\\t')\n",
    "tf = testf.as_matrix()\n",
    "y_pred = model.predict(tf)"
   ]
  },
  {
   "cell_type": "code",
   "execution_count": 62,
   "metadata": {},
   "outputs": [],
   "source": [
    "d = np.array_split(features,5)"
   ]
  },
  {
   "cell_type": "code",
   "execution_count": 51,
   "metadata": {},
   "outputs": [],
   "source": [
    "y = np.array_split(labels.iloc[:][2],5)"
   ]
  },
  {
   "cell_type": "code",
   "execution_count": 100,
   "metadata": {},
   "outputs": [],
   "source": [
    "con = np.concatenate([d[1],d[2]])"
   ]
  },
  {
   "cell_type": "code",
   "execution_count": 102,
   "metadata": {},
   "outputs": [
    {
     "data": {
      "text/plain": [
       "(1305, 336)"
      ]
     },
     "execution_count": 102,
     "metadata": {},
     "output_type": "execute_result"
    }
   ],
   "source": [
    "con = np.concatenate([con])\n",
    "con.shape"
   ]
  },
  {
   "cell_type": "code",
   "execution_count": 53,
   "metadata": {},
   "outputs": [],
   "source": [
    "def modelfit(kernel, x, y, testx):\n",
    "    model = SVC(kernel = kernel)\n",
    "    model.fit(x,y)\n",
    "    y_pred = model.predict(testx)\n",
    "    return y_pred"
   ]
  },
  {
   "cell_type": "code",
   "execution_count": 109,
   "metadata": {},
   "outputs": [
    {
     "data": {
      "text/plain": [
       "array([[ 1.17615803, -0.81298881, -0.51434735, ...,  1.48213346,\n",
       "        -0.54971138, -0.44312518],\n",
       "       [-0.47361865, -0.81298881,  1.89406057, ..., -0.45166395,\n",
       "         2.62591214,  0.71389435],\n",
       "       [-1.13352932,  0.17790537,  0.08775463, ..., -0.45166395,\n",
       "        -0.54971138, -0.44312518],\n",
       "       ...,\n",
       "       [ 0.8462027 ,  0.17790537,  1.29195859, ..., -0.45166395,\n",
       "        -0.54971138,  1.87091389],\n",
       "       [-1.13352932,  0.17790537,  0.08775463, ..., -0.45166395,\n",
       "         1.03810038,  0.71389435],\n",
       "       [ 0.51624736,  0.17790537, -0.51434735, ..., -0.45166395,\n",
       "         1.03810038, -0.44312518]])"
      ]
     },
     "execution_count": 109,
     "metadata": {},
     "output_type": "execute_result"
    }
   ],
   "source": [
    "f"
   ]
  },
  {
   "cell_type": "code",
   "execution_count": 104,
   "metadata": {},
   "outputs": [
    {
     "name": "stdout",
     "output_type": "stream",
     "text": [
      "(1740, 336)\n"
     ]
    }
   ],
   "source": [
    "test_data = lab[i]\n",
    "chk = 0\n",
    "for j in range(5):\n",
    "    if j != i:\n",
    "        if chk == 0:\n",
    "            con = np.concatenate([lab[j]])\n",
    "            chk = 1\n",
    "        else:\n",
    "            con = np.concatenate([con,lab[j]])\n",
    "print(con.shape)"
   ]
  },
  {
   "cell_type": "code",
   "execution_count": 117,
   "metadata": {},
   "outputs": [
    {
     "ename": "SyntaxError",
     "evalue": "invalid syntax (<ipython-input-117-ea6b939c8f5d>, line 4)",
     "output_type": "error",
     "traceback": [
      "\u001b[1;36m  File \u001b[1;32m\"<ipython-input-117-ea6b939c8f5d>\"\u001b[1;36m, line \u001b[1;32m4\u001b[0m\n\u001b[1;33m    else if a == 0:\u001b[0m\n\u001b[1;37m          ^\u001b[0m\n\u001b[1;31mSyntaxError\u001b[0m\u001b[1;31m:\u001b[0m invalid syntax\n"
     ]
    }
   ],
   "source": [
    "a = 0\n",
    "if a == 1:\n",
    "    print(\"1\")\n",
    "else if a == 0:\n",
    "    print('0')"
   ]
  },
  {
   "cell_type": "code",
   "execution_count": 111,
   "metadata": {},
   "outputs": [
    {
     "data": {
      "text/plain": [
       "1740"
      ]
     },
     "execution_count": 111,
     "metadata": {},
     "output_type": "execute_result"
    }
   ],
   "source": [
    "len(con)"
   ]
  },
  {
   "cell_type": "code",
   "execution_count": 54,
   "metadata": {},
   "outputs": [
    {
     "name": "stderr",
     "output_type": "stream",
     "text": [
      "C:\\Users\\Gaurav\\AppData\\Roaming\\Python\\Python36\\site-packages\\sklearn\\svm\\base.py:196: FutureWarning: The default value of gamma will change from 'auto' to 'scale' in version 0.22 to account better for unscaled features. Set gamma explicitly to 'auto' or 'scale' to avoid this warning.\n",
      "  \"avoid this warning.\", FutureWarning)\n"
     ]
    }
   ],
   "source": [
    "yp = modelfit('rbf',f,l,tf)"
   ]
  },
  {
   "cell_type": "code",
   "execution_count": 52,
   "metadata": {},
   "outputs": [
    {
     "name": "stderr",
     "output_type": "stream",
     "text": [
      "C:\\Users\\Gaurav\\AppData\\Roaming\\Python\\Python36\\site-packages\\sklearn\\svm\\base.py:196: FutureWarning: The default value of gamma will change from 'auto' to 'scale' in version 0.22 to account better for unscaled features. Set gamma explicitly to 'auto' or 'scale' to avoid this warning.\n",
      "  \"avoid this warning.\", FutureWarning)\n"
     ]
    },
    {
     "data": {
      "text/plain": [
       "SVC(C=1.0, cache_size=200, class_weight=None, coef0=0.0,\n",
       "  decision_function_shape='ovr', degree=3, gamma='auto_deprecated',\n",
       "  kernel='rbf', max_iter=-1, probability=False, random_state=None,\n",
       "  shrinking=True, tol=0.001, verbose=False)"
      ]
     },
     "execution_count": 52,
     "metadata": {},
     "output_type": "execute_result"
    }
   ],
   "source": [
    "model.fit(d[1],y[1])"
   ]
  },
  {
   "cell_type": "code",
   "execution_count": 161,
   "metadata": {},
   "outputs": [
    {
     "name": "stderr",
     "output_type": "stream",
     "text": [
      "c:\\program files\\python\\lib\\site-packages\\ipykernel_launcher.py:2: FutureWarning: Method .as_matrix will be removed in a future version. Use .values instead.\n",
      "  \n"
     ]
    },
    {
     "name": "stdout",
     "output_type": "stream",
     "text": [
      "0.7701149425287356\n",
      "['N' 'N' 'N' 'N' 'N' 'N' 'N' 'N' 'S' 'N' 'S' 'N' 'N' 'N' 'N' 'N' 'N' 'S'\n",
      " 'S' 'S' 'N' 'N' 'S' 'S' 'N' 'S' 'N' 'S' 'S' 'S' 'N' 'N' 'N' 'N' 'S' 'S'\n",
      " 'N' 'S' 'N' 'S' 'S' 'N' 'N' 'N' 'N' 'S' 'S' 'N' 'S' 'S' 'N' 'N' 'N' 'S'\n",
      " 'N' 'N' 'S' 'S' 'S' 'N' 'S' 'N' 'N' 'S' 'S' 'N' 'S' 'S' 'N' 'N' 'N' 'N'\n",
      " 'N' 'N' 'N' 'N' 'N' 'S' 'N' 'S' 'S' 'N' 'N' 'S' 'S' 'S' 'N' 'N' 'N' 'N'\n",
      " 'N' 'N' 'S' 'S' 'S' 'N' 'S' 'N' 'S' 'N' 'S' 'S' 'N' 'S' 'S' 'S' 'N' 'N'\n",
      " 'N' 'N' 'S' 'N' 'N' 'S' 'N' 'N' 'N' 'S' 'N' 'S' 'S' 'N' 'S' 'N' 'S' 'S'\n",
      " 'S' 'N' 'N' 'S' 'N' 'S' 'S' 'N' 'N' 'S' 'N' 'S' 'S' 'N' 'N' 'S' 'N' 'N'\n",
      " 'N' 'S' 'N' 'S' 'N' 'S' 'S' 'S' 'N' 'S' 'S' 'S' 'S' 'S' 'S' 'S' 'N' 'N'\n",
      " 'N' 'S' 'S' 'N' 'S' 'N' 'S' 'S' 'S' 'S' 'N' 'S' 'N' 'N' 'N' 'S' 'N' 'N'\n",
      " 'N' 'N' 'N' 'N' 'N' 'S' 'S' 'N' 'S' 'N' 'N' 'N' 'S' 'N' 'S' 'S' 'N' 'N'\n",
      " 'S' 'N' 'N' 'N' 'N' 'S' 'N' 'N' 'N' 'N' 'N' 'S' 'N' 'S' 'N' 'S' 'N' 'N'\n",
      " 'N' 'N' 'S' 'S' 'N' 'N' 'S' 'N' 'S' 'N' 'S' 'S' 'N' 'N' 'N' 'N' 'S' 'N'\n",
      " 'N' 'S' 'S' 'S' 'N' 'N' 'S' 'N' 'N' 'S' 'N' 'S' 'S' 'S' 'N' 'N' 'N' 'S'\n",
      " 'S' 'S' 'N' 'N' 'N' 'N' 'N' 'S' 'N' 'N' 'N' 'S' 'S' 'N' 'N' 'S' 'N' 'S'\n",
      " 'N' 'S' 'S' 'S' 'S' 'S' 'N' 'S' 'S' 'N' 'S' 'N' 'S' 'N' 'S' 'S' 'N' 'N'\n",
      " 'S' 'S' 'N' 'S' 'N' 'S' 'N' 'S' 'N' 'N' 'N' 'N' 'N' 'S' 'S' 'N' 'S' 'N'\n",
      " 'N' 'N' 'S' 'N' 'N' 'N' 'S' 'N' 'S' 'S' 'S' 'N' 'N' 'S' 'N' 'S' 'S' 'S'\n",
      " 'S' 'S' 'S' 'S' 'N' 'S' 'S' 'N' 'N' 'N' 'N' 'S' 'N' 'N' 'N' 'N' 'N' 'S'\n",
      " 'N' 'S' 'S' 'S' 'S' 'N' 'S' 'N' 'N' 'N' 'N' 'S' 'N' 'N' 'S' 'N' 'N' 'N'\n",
      " 'N' 'N' 'N' 'S' 'S' 'N' 'N' 'S' 'N' 'N' 'S' 'S' 'N' 'S' 'N' 'S' 'N' 'S'\n",
      " 'N' 'N' 'N' 'N' 'S' 'N' 'N' 'N' 'S' 'S' 'N' 'N' 'S' 'S' 'S' 'N' 'S' 'S'\n",
      " 'S' 'N' 'N' 'N' 'N' 'N' 'N' 'N' 'N' 'S' 'N' 'S' 'S' 'N' 'N' 'S' 'N' 'N'\n",
      " 'N' 'S' 'S' 'N' 'N' 'S' 'S' 'S' 'S' 'N' 'S' 'N' 'S' 'S' 'S' 'S' 'S' 'N'\n",
      " 'N' 'S' 'S']\n",
      "['S' 'N' 'N' 'N' 'S' 'N' 'N' 'N' 'S' 'N' 'S' 'N' 'N' 'S' 'S' 'N' 'N' 'N'\n",
      " 'S' 'N' 'N' 'N' 'S' 'S' 'N' 'N' 'N' 'S' 'S' 'N' 'N' 'N' 'S' 'S' 'N' 'S'\n",
      " 'S' 'S' 'N' 'N' 'S' 'N' 'N' 'N' 'N' 'S' 'S' 'N' 'N' 'S' 'N' 'N' 'N' 'S'\n",
      " 'N' 'S' 'S' 'S' 'S' 'N' 'S' 'N' 'N' 'S' 'S' 'N' 'N' 'S' 'N' 'N' 'N' 'N'\n",
      " 'S' 'N' 'N' 'N' 'N' 'S' 'N' 'S' 'S' 'N' 'N' 'S' 'N' 'S' 'N' 'N' 'S' 'S'\n",
      " 'N' 'N' 'N' 'S' 'S' 'N' 'S' 'N' 'S' 'S' 'S' 'S' 'S' 'S' 'S' 'S' 'N' 'N'\n",
      " 'S' 'N' 'S' 'N' 'N' 'S' 'S' 'N' 'N' 'S' 'N' 'S' 'S' 'N' 'N' 'N' 'S' 'S'\n",
      " 'N' 'S' 'N' 'N' 'S' 'N' 'S' 'N' 'N' 'S' 'N' 'S' 'S' 'N' 'N' 'S' 'S' 'N'\n",
      " 'N' 'S' 'S' 'S' 'N' 'N' 'S' 'N' 'N' 'S' 'S' 'S' 'S' 'S' 'S' 'S' 'N' 'N'\n",
      " 'N' 'S' 'S' 'S' 'S' 'N' 'S' 'N' 'S' 'S' 'N' 'S' 'N' 'N' 'S' 'S' 'N' 'N'\n",
      " 'N' 'S' 'N' 'N' 'N' 'N' 'S' 'N' 'S' 'S' 'N' 'N' 'S' 'N' 'S' 'S' 'S' 'N'\n",
      " 'S' 'N' 'S' 'N' 'N' 'S' 'S' 'S' 'S' 'S' 'N' 'S' 'N' 'S' 'N' 'S' 'N' 'N'\n",
      " 'N' 'N' 'S' 'S' 'N' 'N' 'S' 'N' 'S' 'N' 'S' 'N' 'N' 'N' 'S' 'N' 'S' 'N'\n",
      " 'S' 'S' 'S' 'S' 'N' 'N' 'N' 'N' 'N' 'S' 'S' 'N' 'N' 'S' 'N' 'N' 'N' 'S'\n",
      " 'S' 'N' 'N' 'S' 'N' 'N' 'N' 'S' 'N' 'N' 'N' 'S' 'S' 'N' 'N' 'N' 'N' 'S'\n",
      " 'N' 'N' 'N' 'N' 'S' 'S' 'S' 'S' 'N' 'N' 'S' 'N' 'S' 'S' 'N' 'S' 'N' 'S'\n",
      " 'S' 'S' 'N' 'S' 'S' 'N' 'N' 'S' 'N' 'N' 'N' 'N' 'N' 'S' 'S' 'N' 'N' 'S'\n",
      " 'N' 'S' 'N' 'S' 'N' 'N' 'S' 'N' 'N' 'S' 'S' 'S' 'N' 'S' 'N' 'S' 'S' 'S'\n",
      " 'N' 'N' 'S' 'S' 'N' 'S' 'S' 'S' 'N' 'N' 'S' 'S' 'N' 'N' 'N' 'N' 'N' 'S'\n",
      " 'N' 'S' 'S' 'S' 'S' 'S' 'S' 'N' 'N' 'N' 'N' 'S' 'N' 'N' 'N' 'N' 'N' 'N'\n",
      " 'N' 'S' 'S' 'S' 'S' 'N' 'S' 'S' 'N' 'N' 'S' 'S' 'N' 'N' 'N' 'N' 'S' 'N'\n",
      " 'N' 'N' 'N' 'N' 'S' 'N' 'N' 'N' 'N' 'S' 'N' 'S' 'S' 'S' 'S' 'N' 'S' 'S'\n",
      " 'S' 'S' 'N' 'S' 'N' 'N' 'N' 'N' 'N' 'S' 'N' 'N' 'S' 'N' 'N' 'S' 'S' 'N'\n",
      " 'N' 'S' 'N' 'N' 'N' 'N' 'S' 'S' 'S' 'N' 'S' 'N' 'S' 'N' 'N' 'N' 'N' 'N'\n",
      " 'N' 'S' 'N']\n",
      "[0.7701149425287356]\n"
     ]
    }
   ],
   "source": [
    "features = pd.read_csv('trainFeatures.txt', header = None, sep = '\\t')\n",
    "features = features.as_matrix()\n",
    "features = np.array_split(features,5)\n",
    "labels = pd.read_csv('trainLabel.txt', header = None, sep = ' ')\n",
    "labels = labels.iloc[:][2].array\n",
    "labels = np.array_split(labels,5)\n",
    "kernel = 'gaussian'\n",
    "degree = 3\n",
    "if kernel == 'polynomial_3':\n",
    "\tkernel = 'poly'\n",
    "elif kernel == 'polynomial_6':\n",
    "\tkernel = 'poly'\n",
    "\tdegree = 6\n",
    "elif kernel == 'gaussian':\n",
    "\tkernel = 'rbf'\n",
    "\n",
    "def modelfit(kernel, x, y, testx, degree = 3):\n",
    "    model = SVC(kernel = kernel, degree = degree, gamma = 'auto')\n",
    "    model.fit(x,y)\n",
    "    y_pred = model.predict(testx)\n",
    "    return y_pred\n",
    "\n",
    "def accuracy(true_class,predicted_class):\n",
    "\ttp = 0\n",
    "\tfp = 0\n",
    "\tfn = 0\n",
    "\ttn = 0\n",
    "    accuracy = 0.0\n",
    "\tfor i in range(len(predicted_class)):\n",
    "\t\tif(predicted_class[i] == 'S'):\n",
    "\t\t\tif(true_class[i] == 'S'):\n",
    "\t\t\t\ttp += 1\n",
    "\tfor i in range(len(predicted_class)):\n",
    "\t\tif(predicted_class[i] == 'S'):\n",
    "\t\t\tif(true_class[i] == 'N'):\n",
    "\t\t\t\tfp += 1\n",
    "\tfor i in range(len(predicted_class)):\n",
    "\t\tif(predicted_class[i] == 'N'):\n",
    "\t\t\tif(true_class[i] == 'S'):\n",
    "\t\t\t\tfn += 1\n",
    "\tfor i in range(len(predicted_class)):\n",
    "\t\tif(predicted_class[i] == 'N'):\n",
    "\t\t\tif(true_class[i] == 'N'):\n",
    "\t\t\t\ttn += 1\n",
    "\taccuracy = (tp + tn)/(tp + tn + fp + fn)\n",
    "\tprint(accuracy)\n",
    "\treturn accuracy\n",
    "\n",
    "i = 4\n",
    "accuracies = []\n",
    "test_data = features[i]\n",
    "test_y = labels[i]\n",
    "chk = 0\n",
    "for j in range(5):\n",
    "    if j != i:\n",
    "        if chk == 0:\n",
    "            train_data = np.concatenate([features[j]])\n",
    "            train_y = np.concatenate([labels[j]])\n",
    "            chk = 1\n",
    "        else:\n",
    "            train_data = np.concatenate([train_data,features[j]])\n",
    "            train_y = np.concatenate([train_y,labels[j]])\n",
    "y_pred = modelfit(kernel = kernel, x = train_data, y = train_y, testx = test_data, degree = degree)\n",
    "accuracy = accuracy(test_y, y_pred)\n",
    "accuracies.append(accuracy)\n",
    "\n",
    "print(test_y)\n",
    "print(y_pred)\n",
    "print(accuracies)"
   ]
  },
  {
   "cell_type": "code",
   "execution_count": 140,
   "metadata": {},
   "outputs": [
    {
     "data": {
      "text/plain": [
       "0.7517241379310344"
      ]
     },
     "execution_count": 140,
     "metadata": {},
     "output_type": "execute_result"
    }
   ],
   "source": [
    "accuracy(test_y,y_pred) "
   ]
  }
 ],
 "metadata": {
  "kernelspec": {
   "display_name": "Python 3",
   "language": "python",
   "name": "python3"
  },
  "language_info": {
   "codemirror_mode": {
    "name": "ipython",
    "version": 3
   },
   "file_extension": ".py",
   "mimetype": "text/x-python",
   "name": "python",
   "nbconvert_exporter": "python",
   "pygments_lexer": "ipython3",
   "version": "3.6.8"
  }
 },
 "nbformat": 4,
 "nbformat_minor": 2
}
