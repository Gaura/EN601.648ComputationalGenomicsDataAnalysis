{
 "cells": [
  {
   "cell_type": "code",
   "execution_count": 43,
   "metadata": {},
   "outputs": [],
   "source": [
    "import sys\n",
    "import os\n",
    "import argparse\n",
    "import numpy as np\n",
    "import pandas as pd\n",
    "\n",
    "import statsmodels.api as sm\n",
    "import statsmodels.formula.api as smf\n",
    "from statsmodels.stats.multitest import multipletests"
   ]
  },
  {
   "cell_type": "code",
   "execution_count": 18,
   "metadata": {},
   "outputs": [],
   "source": [
    "phenotype = pd.read_csv('phenotype.txt',sep='\\t', header = None, index_col = 0 )\n",
    "genotype = pd.read_csv('genotype.txt', sep = '\\t', index_col = 0)\n",
    "genotype = genotype.transpose()"
   ]
  },
  {
   "cell_type": "code",
   "execution_count": 22,
   "metadata": {},
   "outputs": [
    {
     "data": {
      "text/plain": [
       "(5000, 100)"
      ]
     },
     "execution_count": 22,
     "metadata": {},
     "output_type": "execute_result"
    }
   ],
   "source": [
    "genotype.shape"
   ]
  },
  {
   "cell_type": "code",
   "execution_count": 24,
   "metadata": {},
   "outputs": [
    {
     "data": {
      "text/plain": [
       "(5000, 1)"
      ]
     },
     "execution_count": 24,
     "metadata": {},
     "output_type": "execute_result"
    }
   ],
   "source": [
    "phenotype.shape"
   ]
  },
  {
   "cell_type": "code",
   "execution_count": 31,
   "metadata": {},
   "outputs": [],
   "source": [
    "x = genotype.values\n",
    "x = sm.add_constant(x)"
   ]
  },
  {
   "cell_type": "code",
   "execution_count": 32,
   "metadata": {},
   "outputs": [],
   "source": [
    "y = phenotype.values"
   ]
  },
  {
   "cell_type": "code",
   "execution_count": 36,
   "metadata": {},
   "outputs": [],
   "source": [
    "model = sm.OLS(y,x)"
   ]
  },
  {
   "cell_type": "code",
   "execution_count": 37,
   "metadata": {},
   "outputs": [],
   "source": [
    "results = model.fit()"
   ]
  },
  {
   "cell_type": "code",
   "execution_count": 42,
   "metadata": {},
   "outputs": [
    {
     "data": {
      "text/plain": [
       "array([4.74728948e-310, 8.77787157e-001, 9.14168916e-001, 1.86685674e-001,\n",
       "       1.44500870e-001, 8.63490465e-001, 6.28132047e-001, 3.04140383e-001,\n",
       "       1.95935395e-026, 3.25929850e-001, 5.22444783e-001, 1.81879399e-001,\n",
       "       5.50751999e-001, 1.82574937e-001, 3.79541352e-001, 6.93515080e-001,\n",
       "       6.03173812e-001, 2.18042750e-001, 2.95346893e-001, 5.95413438e-001,\n",
       "       1.27842336e-021, 6.35832950e-001, 9.35954755e-069, 8.76432337e-003,\n",
       "       3.39297169e-001, 7.94339008e-001, 8.82429319e-001, 9.75805733e-001,\n",
       "       8.22470852e-001, 5.65187050e-002, 6.23549582e-002, 7.24690213e-001,\n",
       "       3.32695300e-001, 6.98253281e-001, 6.84776053e-001, 5.25580933e-016,\n",
       "       6.54830592e-001, 2.38589310e-001, 2.28355495e-002, 2.75572396e-001,\n",
       "       3.85184699e-001, 2.36748334e-001, 5.49898626e-002, 1.00923053e-001,\n",
       "       2.14799558e-002, 1.44930250e-001, 5.60903539e-001, 6.73709861e-001,\n",
       "       3.62426058e-002, 1.72070062e-039, 8.30533361e-001, 6.87564239e-001,\n",
       "       7.06034826e-002, 1.42268529e-001, 5.72878054e-001, 1.03210318e-001,\n",
       "       9.76188882e-082, 5.86322653e-002, 9.88517839e-074, 5.68774172e-001,\n",
       "       1.77760429e-001, 4.89831318e-001, 9.49300675e-001, 1.62772081e-001,\n",
       "       2.34243037e-001, 7.22511825e-001, 4.67225306e-001, 5.23603571e-001,\n",
       "       1.86278573e-001, 5.08461335e-001, 1.04789469e-003, 2.12647083e-001,\n",
       "       3.49769818e-001, 7.96342290e-001, 4.31070004e-001, 1.46395620e-001,\n",
       "       6.77506840e-001, 4.08826622e-001, 4.04593555e-001, 7.68365928e-015,\n",
       "       8.79530716e-001, 8.20739668e-001, 7.70235827e-001, 9.42312141e-001,\n",
       "       3.45879892e-001, 2.37960461e-042, 9.31955731e-001, 2.37923015e-001,\n",
       "       8.11954631e-001, 4.30090588e-002, 8.90871127e-001, 8.88386409e-002,\n",
       "       1.36519720e-001, 3.63846849e-001, 1.15926692e-001, 2.91860370e-001,\n",
       "       3.01138177e-001, 7.08019007e-001, 8.65458067e-001, 9.53694034e-001,\n",
       "       9.94045037e-001])"
      ]
     },
     "execution_count": 42,
     "metadata": {},
     "output_type": "execute_result"
    }
   ],
   "source": [
    "results.params\n",
    "results.pvalues"
   ]
  },
  {
   "cell_type": "code",
   "execution_count": 46,
   "metadata": {},
   "outputs": [],
   "source": [
    "pval_tests = multipletests(results.pvalues, alpha= 0.05, method = 'fdr_bh')"
   ]
  },
  {
   "cell_type": "code",
   "execution_count": 89,
   "metadata": {},
   "outputs": [
    {
     "data": {
      "text/plain": [
       "(array([ 0,  8, 20, 22, 35, 49, 56, 58, 70, 79, 85], dtype=int64),)"
      ]
     },
     "execution_count": 89,
     "metadata": {},
     "output_type": "execute_result"
    }
   ],
   "source": [
    "significant = np.where(pval_tests[0] == True)\n",
    "significant"
   ]
  },
  {
   "cell_type": "code",
   "execution_count": 81,
   "metadata": {},
   "outputs": [],
   "source": [
    "breeds = pd.read_csv('breeds.txt', sep = '\\t', index_col = 0, header = None)\n",
    "breeds = breeds.values\n",
    "breeds = np.concatenate(breeds)"
   ]
  },
  {
   "cell_type": "code",
   "execution_count": 82,
   "metadata": {},
   "outputs": [],
   "source": [
    "mix_model = smf.MixedLM(y,x,groups = breeds)"
   ]
  },
  {
   "cell_type": "code",
   "execution_count": 84,
   "metadata": {},
   "outputs": [],
   "source": [
    "mix_results = mix_model.fit()"
   ]
  },
  {
   "cell_type": "code",
   "execution_count": 87,
   "metadata": {},
   "outputs": [],
   "source": [
    "mix_pvals = multipletests(mix_results.pvalues, alpha= 0.05, method = 'fdr_bh')"
   ]
  },
  {
   "cell_type": "code",
   "execution_count": 90,
   "metadata": {},
   "outputs": [
    {
     "data": {
      "text/plain": [
       "(array([ 0,  8, 10, 20, 22, 35, 49, 56, 58, 63, 70, 79, 85], dtype=int64),)"
      ]
     },
     "execution_count": 90,
     "metadata": {},
     "output_type": "execute_result"
    }
   ],
   "source": [
    "mix_significant = np.where(mix_pvals[0] == True)\n",
    "mix_significant"
   ]
  }
 ],
 "metadata": {
  "kernelspec": {
   "display_name": "Python 3",
   "language": "python",
   "name": "python3"
  },
  "language_info": {
   "codemirror_mode": {
    "name": "ipython",
    "version": 3
   },
   "file_extension": ".py",
   "mimetype": "text/x-python",
   "name": "python",
   "nbconvert_exporter": "python",
   "pygments_lexer": "ipython3",
   "version": "3.6.8"
  }
 },
 "nbformat": 4,
 "nbformat_minor": 2
}
