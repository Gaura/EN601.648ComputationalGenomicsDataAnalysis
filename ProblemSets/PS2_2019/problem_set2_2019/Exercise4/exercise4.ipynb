{
 "cells": [
  {
   "cell_type": "code",
   "execution_count": 1,
   "metadata": {},
   "outputs": [],
   "source": [
    "import sys\n",
    "import os\n",
    "import argparse\n",
    "import numpy as np\n",
    "import pandas as pd"
   ]
  },
  {
   "cell_type": "code",
   "execution_count": 4,
   "metadata": {},
   "outputs": [],
   "source": [
    "train = pd.read_csv('train_expr.txt', sep = '\\t', index_col = 0)"
   ]
  },
  {
   "cell_type": "code",
   "execution_count": 5,
   "metadata": {},
   "outputs": [
    {
     "data": {
      "text/html": [
       "<div>\n",
       "<style scoped>\n",
       "    .dataframe tbody tr th:only-of-type {\n",
       "        vertical-align: middle;\n",
       "    }\n",
       "\n",
       "    .dataframe tbody tr th {\n",
       "        vertical-align: top;\n",
       "    }\n",
       "\n",
       "    .dataframe thead th {\n",
       "        text-align: right;\n",
       "    }\n",
       "</style>\n",
       "<table border=\"1\" class=\"dataframe\">\n",
       "  <thead>\n",
       "    <tr style=\"text-align: right;\">\n",
       "      <th></th>\n",
       "      <th>GTEX-13FTX-0326-SM-5J2NG</th>\n",
       "      <th>GTEX-WK11-0006-SM-3NB3J</th>\n",
       "      <th>GTEX-13OVL-0326-SM-5IJCS</th>\n",
       "      <th>GTEX-YEC3-0826-SM-4WWFP</th>\n",
       "      <th>GTEX-WFG8-2326-SM-5S2UE</th>\n",
       "      <th>GTEX-SJXC-0726-SM-2XCFJ</th>\n",
       "      <th>GTEX-RVPU-2426-SM-2XCAR</th>\n",
       "      <th>GTEX-13W46-0926-SM-5LU3T</th>\n",
       "      <th>GTEX-13JUV-0526-SM-5K7XE</th>\n",
       "      <th>GTEX-YF7O-2526-SM-5IFJX</th>\n",
       "      <th>...</th>\n",
       "      <th>GTEX-ZDTS-0226-SM-5HL7Q</th>\n",
       "      <th>GTEX-Y5V5-2426-SM-5IFJA</th>\n",
       "      <th>GTEX-13VXU-0826-SM-5KLZ2</th>\n",
       "      <th>GTEX-11LCK-1226-SM-5Q5AM</th>\n",
       "      <th>GTEX-139T4-0326-SM-5K7XN</th>\n",
       "      <th>GTEX-Y5V6-0526-SM-4VBRV</th>\n",
       "      <th>GTEX-113JC-0006-SM-5O997</th>\n",
       "      <th>GTEX-N7MT-0126-SM-2D7VT</th>\n",
       "      <th>GTEX-U3ZN-2626-SM-3DB7T</th>\n",
       "      <th>GTEX-WH7G-2226-SM-3NMBN</th>\n",
       "    </tr>\n",
       "    <tr>\n",
       "      <th>geneid</th>\n",
       "      <th></th>\n",
       "      <th></th>\n",
       "      <th></th>\n",
       "      <th></th>\n",
       "      <th></th>\n",
       "      <th></th>\n",
       "      <th></th>\n",
       "      <th></th>\n",
       "      <th></th>\n",
       "      <th></th>\n",
       "      <th></th>\n",
       "      <th></th>\n",
       "      <th></th>\n",
       "      <th></th>\n",
       "      <th></th>\n",
       "      <th></th>\n",
       "      <th></th>\n",
       "      <th></th>\n",
       "      <th></th>\n",
       "      <th></th>\n",
       "      <th></th>\n",
       "    </tr>\n",
       "  </thead>\n",
       "  <tbody>\n",
       "    <tr>\n",
       "      <th>ENSG00000104879.4</th>\n",
       "      <td>-0.680895</td>\n",
       "      <td>-0.529919</td>\n",
       "      <td>-0.446931</td>\n",
       "      <td>-0.696486</td>\n",
       "      <td>-0.596440</td>\n",
       "      <td>-0.587053</td>\n",
       "      <td>1.853997</td>\n",
       "      <td>-0.503557</td>\n",
       "      <td>-0.476697</td>\n",
       "      <td>1.743965</td>\n",
       "      <td>...</td>\n",
       "      <td>-0.782799</td>\n",
       "      <td>-0.598077</td>\n",
       "      <td>-0.555558</td>\n",
       "      <td>1.837806</td>\n",
       "      <td>1.209599</td>\n",
       "      <td>-0.470998</td>\n",
       "      <td>-0.421376</td>\n",
       "      <td>-0.742632</td>\n",
       "      <td>-0.578674</td>\n",
       "      <td>-0.626123</td>\n",
       "    </tr>\n",
       "    <tr>\n",
       "      <th>ENSG00000143632.10</th>\n",
       "      <td>-0.622342</td>\n",
       "      <td>-0.477865</td>\n",
       "      <td>-0.380450</td>\n",
       "      <td>-0.615103</td>\n",
       "      <td>-0.650067</td>\n",
       "      <td>-0.556104</td>\n",
       "      <td>1.985546</td>\n",
       "      <td>-0.474911</td>\n",
       "      <td>-0.454111</td>\n",
       "      <td>1.794067</td>\n",
       "      <td>...</td>\n",
       "      <td>-0.784953</td>\n",
       "      <td>-0.616822</td>\n",
       "      <td>-0.605833</td>\n",
       "      <td>1.950436</td>\n",
       "      <td>0.922770</td>\n",
       "      <td>-0.602586</td>\n",
       "      <td>-0.459198</td>\n",
       "      <td>-0.789133</td>\n",
       "      <td>-0.555305</td>\n",
       "      <td>-0.641788</td>\n",
       "    </tr>\n",
       "    <tr>\n",
       "      <th>ENSG00000244734.2</th>\n",
       "      <td>0.493421</td>\n",
       "      <td>1.696895</td>\n",
       "      <td>-0.623790</td>\n",
       "      <td>-0.780641</td>\n",
       "      <td>-0.640793</td>\n",
       "      <td>-0.406726</td>\n",
       "      <td>-0.507259</td>\n",
       "      <td>-0.341086</td>\n",
       "      <td>0.660264</td>\n",
       "      <td>-1.167895</td>\n",
       "      <td>...</td>\n",
       "      <td>-1.112056</td>\n",
       "      <td>0.096588</td>\n",
       "      <td>-0.028634</td>\n",
       "      <td>-1.340025</td>\n",
       "      <td>-0.678157</td>\n",
       "      <td>-0.834713</td>\n",
       "      <td>1.955981</td>\n",
       "      <td>0.251375</td>\n",
       "      <td>-0.619329</td>\n",
       "      <td>-0.518229</td>\n",
       "    </tr>\n",
       "    <tr>\n",
       "      <th>ENSG00000188536.8</th>\n",
       "      <td>0.401353</td>\n",
       "      <td>1.626741</td>\n",
       "      <td>-0.587916</td>\n",
       "      <td>-0.786670</td>\n",
       "      <td>-0.562416</td>\n",
       "      <td>-0.369706</td>\n",
       "      <td>-0.468031</td>\n",
       "      <td>-0.219668</td>\n",
       "      <td>0.660976</td>\n",
       "      <td>-0.995400</td>\n",
       "      <td>...</td>\n",
       "      <td>-1.020313</td>\n",
       "      <td>0.121388</td>\n",
       "      <td>0.022120</td>\n",
       "      <td>-1.260669</td>\n",
       "      <td>-0.594788</td>\n",
       "      <td>-0.783717</td>\n",
       "      <td>1.959453</td>\n",
       "      <td>0.053983</td>\n",
       "      <td>-0.561385</td>\n",
       "      <td>-0.519185</td>\n",
       "    </tr>\n",
       "    <tr>\n",
       "      <th>ENSG00000206172.4</th>\n",
       "      <td>0.516500</td>\n",
       "      <td>1.729560</td>\n",
       "      <td>-0.726352</td>\n",
       "      <td>-0.762383</td>\n",
       "      <td>-0.620865</td>\n",
       "      <td>-0.525214</td>\n",
       "      <td>-0.528507</td>\n",
       "      <td>-0.213359</td>\n",
       "      <td>0.603325</td>\n",
       "      <td>-0.950248</td>\n",
       "      <td>...</td>\n",
       "      <td>-1.030625</td>\n",
       "      <td>0.068395</td>\n",
       "      <td>-0.072431</td>\n",
       "      <td>-1.245723</td>\n",
       "      <td>-0.634660</td>\n",
       "      <td>-0.839398</td>\n",
       "      <td>1.963260</td>\n",
       "      <td>0.228615</td>\n",
       "      <td>-0.654478</td>\n",
       "      <td>-0.548755</td>\n",
       "    </tr>\n",
       "  </tbody>\n",
       "</table>\n",
       "<p>5 rows × 1089 columns</p>\n",
       "</div>"
      ],
      "text/plain": [
       "                    GTEX-13FTX-0326-SM-5J2NG  GTEX-WK11-0006-SM-3NB3J  \\\n",
       "geneid                                                                  \n",
       "ENSG00000104879.4                  -0.680895                -0.529919   \n",
       "ENSG00000143632.10                 -0.622342                -0.477865   \n",
       "ENSG00000244734.2                   0.493421                 1.696895   \n",
       "ENSG00000188536.8                   0.401353                 1.626741   \n",
       "ENSG00000206172.4                   0.516500                 1.729560   \n",
       "\n",
       "                    GTEX-13OVL-0326-SM-5IJCS  GTEX-YEC3-0826-SM-4WWFP  \\\n",
       "geneid                                                                  \n",
       "ENSG00000104879.4                  -0.446931                -0.696486   \n",
       "ENSG00000143632.10                 -0.380450                -0.615103   \n",
       "ENSG00000244734.2                  -0.623790                -0.780641   \n",
       "ENSG00000188536.8                  -0.587916                -0.786670   \n",
       "ENSG00000206172.4                  -0.726352                -0.762383   \n",
       "\n",
       "                    GTEX-WFG8-2326-SM-5S2UE  GTEX-SJXC-0726-SM-2XCFJ  \\\n",
       "geneid                                                                 \n",
       "ENSG00000104879.4                 -0.596440                -0.587053   \n",
       "ENSG00000143632.10                -0.650067                -0.556104   \n",
       "ENSG00000244734.2                 -0.640793                -0.406726   \n",
       "ENSG00000188536.8                 -0.562416                -0.369706   \n",
       "ENSG00000206172.4                 -0.620865                -0.525214   \n",
       "\n",
       "                    GTEX-RVPU-2426-SM-2XCAR  GTEX-13W46-0926-SM-5LU3T  \\\n",
       "geneid                                                                  \n",
       "ENSG00000104879.4                  1.853997                 -0.503557   \n",
       "ENSG00000143632.10                 1.985546                 -0.474911   \n",
       "ENSG00000244734.2                 -0.507259                 -0.341086   \n",
       "ENSG00000188536.8                 -0.468031                 -0.219668   \n",
       "ENSG00000206172.4                 -0.528507                 -0.213359   \n",
       "\n",
       "                    GTEX-13JUV-0526-SM-5K7XE  GTEX-YF7O-2526-SM-5IFJX  ...  \\\n",
       "geneid                                                                 ...   \n",
       "ENSG00000104879.4                  -0.476697                 1.743965  ...   \n",
       "ENSG00000143632.10                 -0.454111                 1.794067  ...   \n",
       "ENSG00000244734.2                   0.660264                -1.167895  ...   \n",
       "ENSG00000188536.8                   0.660976                -0.995400  ...   \n",
       "ENSG00000206172.4                   0.603325                -0.950248  ...   \n",
       "\n",
       "                    GTEX-ZDTS-0226-SM-5HL7Q  GTEX-Y5V5-2426-SM-5IFJA  \\\n",
       "geneid                                                                 \n",
       "ENSG00000104879.4                 -0.782799                -0.598077   \n",
       "ENSG00000143632.10                -0.784953                -0.616822   \n",
       "ENSG00000244734.2                 -1.112056                 0.096588   \n",
       "ENSG00000188536.8                 -1.020313                 0.121388   \n",
       "ENSG00000206172.4                 -1.030625                 0.068395   \n",
       "\n",
       "                    GTEX-13VXU-0826-SM-5KLZ2  GTEX-11LCK-1226-SM-5Q5AM  \\\n",
       "geneid                                                                   \n",
       "ENSG00000104879.4                  -0.555558                  1.837806   \n",
       "ENSG00000143632.10                 -0.605833                  1.950436   \n",
       "ENSG00000244734.2                  -0.028634                 -1.340025   \n",
       "ENSG00000188536.8                   0.022120                 -1.260669   \n",
       "ENSG00000206172.4                  -0.072431                 -1.245723   \n",
       "\n",
       "                    GTEX-139T4-0326-SM-5K7XN  GTEX-Y5V6-0526-SM-4VBRV  \\\n",
       "geneid                                                                  \n",
       "ENSG00000104879.4                   1.209599                -0.470998   \n",
       "ENSG00000143632.10                  0.922770                -0.602586   \n",
       "ENSG00000244734.2                  -0.678157                -0.834713   \n",
       "ENSG00000188536.8                  -0.594788                -0.783717   \n",
       "ENSG00000206172.4                  -0.634660                -0.839398   \n",
       "\n",
       "                    GTEX-113JC-0006-SM-5O997  GTEX-N7MT-0126-SM-2D7VT  \\\n",
       "geneid                                                                  \n",
       "ENSG00000104879.4                  -0.421376                -0.742632   \n",
       "ENSG00000143632.10                 -0.459198                -0.789133   \n",
       "ENSG00000244734.2                   1.955981                 0.251375   \n",
       "ENSG00000188536.8                   1.959453                 0.053983   \n",
       "ENSG00000206172.4                   1.963260                 0.228615   \n",
       "\n",
       "                    GTEX-U3ZN-2626-SM-3DB7T  GTEX-WH7G-2226-SM-3NMBN  \n",
       "geneid                                                                \n",
       "ENSG00000104879.4                 -0.578674                -0.626123  \n",
       "ENSG00000143632.10                -0.555305                -0.641788  \n",
       "ENSG00000244734.2                 -0.619329                -0.518229  \n",
       "ENSG00000188536.8                 -0.561385                -0.519185  \n",
       "ENSG00000206172.4                 -0.654478                -0.548755  \n",
       "\n",
       "[5 rows x 1089 columns]"
      ]
     },
     "execution_count": 5,
     "metadata": {},
     "output_type": "execute_result"
    }
   ],
   "source": [
    "train.head()"
   ]
  },
  {
   "cell_type": "code",
   "execution_count": 6,
   "metadata": {},
   "outputs": [
    {
     "data": {
      "text/plain": [
       "(1089, 100)"
      ]
     },
     "execution_count": 6,
     "metadata": {},
     "output_type": "execute_result"
    }
   ],
   "source": [
    "t_train = train.transpose()\n",
    "t_train.shape"
   ]
  },
  {
   "cell_type": "code",
   "execution_count": 116,
   "metadata": {},
   "outputs": [],
   "source": [
    "def myKmeans(data, k, centers, maxit):\n",
    "    n = data.shape[0] #no of samples\n",
    "    d = data.shape[1] #no of features\n",
    "    clusters = np.empty(shape = n)\n",
    "    itr = 0\n",
    "    while(itr < maxit):\n",
    "        #assign clusters\n",
    "        for i in range(n):\n",
    "            distances = np.empty(shape = k)\n",
    "            for j in range(k):\n",
    "                distances[j] = distance(centers[j,:], data[i,:])\n",
    "                clusters[i] = distances.argmin()\n",
    "        #recompute centers\n",
    "        for j in range(k):\n",
    "            whr_j = np.where(clusters == j)[0]\n",
    "            centers[j,:] = np.mean(data[whr_j,:], axis=0)\n",
    "        itr += 1\n",
    "    return(clusters,centers)"
   ]
  },
  {
   "cell_type": "code",
   "execution_count": 80,
   "metadata": {},
   "outputs": [
    {
     "data": {
      "text/plain": [
       "array([2., 2.])"
      ]
     },
     "execution_count": 80,
     "metadata": {},
     "output_type": "execute_result"
    }
   ],
   "source": [
    "np.mean(data[np.where(model[0] == 1)[0],],axis =0)"
   ]
  },
  {
   "cell_type": "code",
   "execution_count": 101,
   "metadata": {},
   "outputs": [
    {
     "data": {
      "text/plain": [
       "array([[ True,  True,  True, ...,  True,  True,  True],\n",
       "       [False, False, False, ..., False, False, False],\n",
       "       [False, False, False, ..., False, False, False],\n",
       "       ...,\n",
       "       [False, False, False, ..., False, False, False],\n",
       "       [False, False, False, ..., False, False, False],\n",
       "       [False, False, False, ..., False, False, False]])"
      ]
     },
     "execution_count": 101,
     "metadata": {},
     "output_type": "execute_result"
    }
   ],
   "source": [
    "np.mean(data[np.where(model[0] == 1),:],axis=0) == data[1]"
   ]
  },
  {
   "cell_type": "code",
   "execution_count": 106,
   "metadata": {},
   "outputs": [
    {
     "data": {
      "text/plain": [
       "array([[[ True,  True,  True, ...,  True,  True,  True],\n",
       "        [ True,  True,  True, ...,  True,  True,  True],\n",
       "        [ True,  True,  True, ...,  True,  True,  True],\n",
       "        ...,\n",
       "        [ True,  True,  True, ...,  True,  True,  True],\n",
       "        [ True,  True,  True, ...,  True,  True,  True],\n",
       "        [ True,  True,  True, ...,  True,  True,  True]]])"
      ]
     },
     "execution_count": 106,
     "metadata": {},
     "output_type": "execute_result"
    }
   ],
   "source": [
    "data[np.where(model[0] == 1),] == data[np.where(model[0] == 1),:]"
   ]
  },
  {
   "cell_type": "code",
   "execution_count": 107,
   "metadata": {},
   "outputs": [
    {
     "data": {
      "text/plain": [
       "array([-0.48796532, -0.53499354,  1.70463211,  1.71569715,  1.72222842,\n",
       "       -0.51320928, -0.53543358, -0.56844345, -0.53283982, -0.5107828 ,\n",
       "       -0.39528389, -0.50606087, -0.51697992, -0.42968371, -0.48437216,\n",
       "       -0.64366301, -0.61088338, -0.51287674, -0.50943845, -0.8185465 ,\n",
       "       -0.50885581, -1.09817645, -0.17298727, -0.5918025 , -0.53893596,\n",
       "        1.56142233, -0.51449441, -0.48652019, -0.75641338, -0.54810023,\n",
       "       -0.59436882, -0.65222669, -0.44599151,  1.59933313, -0.56616875,\n",
       "       -0.44195259, -0.52270326,  1.4845693 , -0.53207159, -0.5924278 ,\n",
       "       -1.02297888, -0.58072736, -0.78800496,  1.60012026, -0.57888996,\n",
       "       -0.50258455, -1.39761591,  1.7702036 , -0.62606333,  1.738622  ,\n",
       "       -0.5673883 , -0.51838931, -1.66976097, -0.91857986, -0.42658589,\n",
       "        1.68263734, -0.77777853,  1.78170804,  1.66769765,  1.42590425,\n",
       "       -0.63170286,  1.41210204,  1.78342574, -0.59855558,  1.71511168,\n",
       "        1.38576943, -0.53155949,  1.44254878,  0.62534953, -1.58992527,\n",
       "       -0.83284075, -1.65679698, -1.69415432, -0.56823028, -0.54340174,\n",
       "       -1.04520422, -1.66490281, -1.3385824 , -0.69093881, -1.00211805,\n",
       "        1.62017544,  0.73686291, -0.49879225,  1.65710597, -1.64765586,\n",
       "       -1.67356618, -0.67900032, -0.5097195 , -0.49766146, -0.60422736,\n",
       "       -0.29146032, -1.37037857, -0.73019976, -0.5458565 ,  1.5927623 ,\n",
       "        1.68839861, -0.90571436, -1.63713283, -0.59676217, -1.41881477])"
      ]
     },
     "execution_count": 107,
     "metadata": {},
     "output_type": "execute_result"
    }
   ],
   "source": [
    "data[1]"
   ]
  },
  {
   "cell_type": "code",
   "execution_count": 8,
   "metadata": {},
   "outputs": [
    {
     "ename": "NameError",
     "evalue": "name 'ii' is not defined",
     "output_type": "error",
     "traceback": [
      "\u001b[1;31m---------------------------------------------------------------------------\u001b[0m",
      "\u001b[1;31mNameError\u001b[0m                                 Traceback (most recent call last)",
      "\u001b[1;32m<ipython-input-8-3611cfe1e8b5>\u001b[0m in \u001b[0;36m<module>\u001b[1;34m\u001b[0m\n\u001b[1;32m----> 1\u001b[1;33m \u001b[0mcntrs\u001b[0m \u001b[1;33m=\u001b[0m \u001b[0mt_train\u001b[0m\u001b[1;33m.\u001b[0m\u001b[0mvalues\u001b[0m\u001b[1;33m[\u001b[0m\u001b[0mii\u001b[0m\u001b[1;33m,\u001b[0m\u001b[1;33m:\u001b[0m\u001b[1;33m]\u001b[0m\u001b[1;33m\u001b[0m\u001b[1;33m\u001b[0m\u001b[0m\n\u001b[0m\u001b[0;32m      2\u001b[0m \u001b[0mdat\u001b[0m \u001b[1;33m=\u001b[0m \u001b[0mt_train\u001b[0m\u001b[1;33m.\u001b[0m\u001b[0mvalues\u001b[0m\u001b[1;33m[\u001b[0m\u001b[1;36m0\u001b[0m\u001b[1;33m:\u001b[0m\u001b[1;36m100\u001b[0m\u001b[1;33m,\u001b[0m\u001b[1;33m]\u001b[0m\u001b[1;33m\u001b[0m\u001b[1;33m\u001b[0m\u001b[0m\n\u001b[0;32m      3\u001b[0m \u001b[0mk\u001b[0m \u001b[1;33m=\u001b[0m \u001b[1;36m2\u001b[0m\u001b[1;33m\u001b[0m\u001b[1;33m\u001b[0m\u001b[0m\n\u001b[0;32m      4\u001b[0m \u001b[0mmaxit\u001b[0m \u001b[1;33m=\u001b[0m \u001b[1;36m50\u001b[0m\u001b[1;33m\u001b[0m\u001b[1;33m\u001b[0m\u001b[0m\n\u001b[0;32m      5\u001b[0m \u001b[0mmk\u001b[0m \u001b[1;33m=\u001b[0m \u001b[0mmyKmeans\u001b[0m\u001b[1;33m(\u001b[0m\u001b[0mdat\u001b[0m\u001b[1;33m,\u001b[0m\u001b[0mk\u001b[0m\u001b[1;33m,\u001b[0m\u001b[0mcntrs\u001b[0m\u001b[1;33m,\u001b[0m\u001b[1;36m50\u001b[0m\u001b[1;33m)\u001b[0m\u001b[1;33m\u001b[0m\u001b[1;33m\u001b[0m\u001b[0m\n",
      "\u001b[1;31mNameError\u001b[0m: name 'ii' is not defined"
     ]
    }
   ],
   "source": [
    "cntrs = t_train.values[1:,:]\n",
    "dat = t_train.values[0:100,]\n",
    "k = 2\n",
    "maxit = 50\n",
    "mk = myKmeans(dat,k,cntrs,50)"
   ]
  },
  {
   "cell_type": "code",
   "execution_count": 117,
   "metadata": {},
   "outputs": [],
   "source": [
    "model = myKmeans(data,5,data[0:5],10)"
   ]
  },
  {
   "cell_type": "code",
   "execution_count": 118,
   "metadata": {},
   "outputs": [
    {
     "data": {
      "text/plain": [
       "array([0., 1., 2., 3., 4., 3., 0., 3., 2.])"
      ]
     },
     "execution_count": 118,
     "metadata": {},
     "output_type": "execute_result"
    }
   ],
   "source": [
    "model[0][0:9]"
   ]
  },
  {
   "cell_type": "code",
   "execution_count": 9,
   "metadata": {},
   "outputs": [],
   "source": [
    "def avg_distance_from_centroid(model,data,k):\n",
    "    distances = np.empty(shape = k)\n",
    "    clusters = model[0]\n",
    "    for j in range(k):\n",
    "        whr_j = np.where(clusters == j)[0]\n",
    "        s = 0\n",
    "        temp_mat = data[whr_j,]\n",
    "        for i in range(len(whr_j)):\n",
    "            s += distance(model[1][j],temp_mat[i])\n",
    "        distances[j] = s\n",
    "    return np.mean(distances)"
   ]
  },
  {
   "cell_type": "code",
   "execution_count": 13,
   "metadata": {},
   "outputs": [],
   "source": [
    "def distance(p1, p2):\n",
    "    return np.linalg.norm(p1  -  p2)"
   ]
  },
  {
   "cell_type": "code",
   "execution_count": 64,
   "metadata": {},
   "outputs": [],
   "source": [
    "kmin = 2\n",
    "kmax = 10\n",
    "tries = kmax - kmin + 1\n",
    "rng = range(kmin, kmax + 1)\n",
    "mean_distances = np.empty(shape = tries)\n",
    "try_no = 0\n",
    "data = t_train.values\n",
    "for i in rng:\n",
    "    model = myKmeans(data,i,data[0:i],10)\n",
    "    mean_distances[try_no] = avg_distance_from_centroid(model,data,i) \n",
    "    try_no += 1"
   ]
  },
  {
   "cell_type": "code",
   "execution_count": 67,
   "metadata": {},
   "outputs": [
    {
     "data": {
      "text/plain": [
       "array([0., 1., 2., 3., 4., 5., 6., 7., 8., 9.])"
      ]
     },
     "execution_count": 67,
     "metadata": {},
     "output_type": "execute_result"
    }
   ],
   "source": [
    "model[0][0:10]"
   ]
  },
  {
   "cell_type": "code",
   "execution_count": 113,
   "metadata": {},
   "outputs": [],
   "source": [
    "#Bic Criteria\n",
    "k = 5\n",
    "sigma = np.empty(shape = k)\n",
    "for i in range(k):\n",
    "    distances = 0\n",
    "    wch_k = np.where(model[0] == i)[0]\n",
    "    for j in range(len(wch_k)):\n",
    "        distances += distance(model[1][i],data[wch_k[j],:])\n",
    "    sigma[i] = distances/len(wch_k)"
   ]
  },
  {
   "cell_type": "code",
   "execution_count": 145,
   "metadata": {},
   "outputs": [
    {
     "data": {
      "text/plain": [
       "(1089, 100)"
      ]
     },
     "execution_count": 145,
     "metadata": {},
     "output_type": "execute_result"
    }
   ],
   "source": [
    "data.shape"
   ]
  },
  {
   "cell_type": "code",
   "execution_count": 132,
   "metadata": {},
   "outputs": [],
   "source": [
    "innr = np.empty(shape = k)\n",
    "for i in range(k):\n",
    "    distances = 0\n",
    "    wch_k = np.where(model[0] == i)\n",
    "    inr = 0\n",
    "    for j in range(len(wch_k)):\n",
    "        inr += 1/np.sqrt(2*np.pi*sigma[i])*np.exp(-1/2/(sigma[i]**2)*distance(model[1][i],data[wch_k[j],:]))\n",
    "    innr[i] = inr"
   ]
  },
  {
   "cell_type": "code",
   "execution_count": 133,
   "metadata": {},
   "outputs": [
    {
     "data": {
      "text/plain": [
       "array([0.01183318, 0.01199737, 0.01820021, 0.01688628, 0.01305942])"
      ]
     },
     "execution_count": 133,
     "metadata": {},
     "output_type": "execute_result"
    }
   ],
   "source": [
    "innr"
   ]
  },
  {
   "cell_type": "code",
   "execution_count": 127,
   "metadata": {},
   "outputs": [],
   "source": [
    "prod = 1\n",
    "for i in range(len(innr)):\n",
    "    prod *= innr[i]"
   ]
  },
  {
   "cell_type": "code",
   "execution_count": 151,
   "metadata": {},
   "outputs": [],
   "source": [
    "bic = np.empty(shape = len(rng))\n",
    "for m in rng:\n",
    "    k = m\n",
    "    model = myKmeans(data,k,data[0:k],10)\n",
    "    sigma = np.empty(shape = k)\n",
    "    for i in range(k):\n",
    "        distances = 0\n",
    "        wch_k = np.where(model[0] == i)[0]\n",
    "        for j in range(len(wch_k)):\n",
    "            distances += distance(model[1][i],data[wch_k[j],:])\n",
    "        sigma[i] = distances/len(wch_k)\n",
    "    innr = np.empty(shape = k)\n",
    "    for i in range(k):\n",
    "        distances = 0\n",
    "        wch_k = np.where(model[0] == i)\n",
    "        inr = 0\n",
    "        for j in range(len(wch_k)):\n",
    "            inr += 1/np.sqrt(2*np.pi*sigma[i])*np.exp(-1/2/(sigma[i]**2)*distance(model[1][i],data[wch_k[j],:]))\n",
    "        innr[i] = inr\n",
    "    prod = 1\n",
    "    for i in range(k):\n",
    "        prod *= innr[i]\n",
    "    bc = -2*np.log(prod) + (k*101)*np.log(1089)\n",
    "    bic[m-2] = bc"
   ]
  },
  {
   "cell_type": "code",
   "execution_count": 160,
   "metadata": {},
   "outputs": [],
   "source": [
    "inr = 0\n",
    "n = 0\n",
    "bic = np.empty(shape = (9,1089))\n",
    "for m in rng:\n",
    "    k = m\n",
    "    model = myKmeans(data,k,data[0:k],10)\n",
    "    sigma = np.empty(shape = k)\n",
    "    for i in range(k):\n",
    "        distances = 0\n",
    "        wch_k = np.where(model[0] == i)[0]\n",
    "        for j in range(len(wch_k)):\n",
    "            distances += distance(model[1][i],data[wch_k[j],:])\n",
    "        sigma[i] = distances/len(wch_k)\n",
    "    lninr = np.empty(shape = data.shape[0])\n",
    "    for n in range(data.shape[0]):\n",
    "        for j in range(k):\n",
    "            inr += 1/np.sqrt(2*np.pi*sigma[j])*np.exp(-1/2/(sigma[j]**2)*distance(model[1][j],data[i,:]))\n",
    "        lninr[n] = np.log(inr)\n",
    "    bic[m-2] = lninr"
   ]
  },
  {
   "cell_type": "code",
   "execution_count": 166,
   "metadata": {},
   "outputs": [
    {
     "data": {
      "text/plain": [
       "array([4.53209426, 6.16547862, 6.9194296 , 7.42644315, 7.85110929,\n",
       "       8.15945905, 8.42543252, 8.67573519, 8.86612957])"
      ]
     },
     "execution_count": 166,
     "metadata": {},
     "output_type": "execute_result"
    }
   ],
   "source": [
    "np.mean(bic,axis=1)"
   ]
  },
  {
   "cell_type": "code",
   "execution_count": 158,
   "metadata": {},
   "outputs": [
    {
     "ename": "AttributeError",
     "evalue": "'list' object has no attribute 'shape'",
     "output_type": "error",
     "traceback": [
      "\u001b[1;31m---------------------------------------------------------------------------\u001b[0m",
      "\u001b[1;31mAttributeError\u001b[0m                            Traceback (most recent call last)",
      "\u001b[1;32m<ipython-input-158-2c06371a16de>\u001b[0m in \u001b[0;36m<module>\u001b[1;34m\u001b[0m\n\u001b[1;32m----> 1\u001b[1;33m \u001b[0mbic\u001b[0m\u001b[1;33m.\u001b[0m\u001b[0mshape\u001b[0m\u001b[1;33m\u001b[0m\u001b[1;33m\u001b[0m\u001b[0m\n\u001b[0m",
      "\u001b[1;31mAttributeError\u001b[0m: 'list' object has no attribute 'shape'"
     ]
    }
   ],
   "source": [
    "bic.shape"
   ]
  },
  {
   "cell_type": "code",
   "execution_count": 154,
   "metadata": {},
   "outputs": [
    {
     "data": {
      "text/plain": [
       "1089"
      ]
     },
     "execution_count": 154,
     "metadata": {},
     "output_type": "execute_result"
    }
   ],
   "source": [
    "data.shape[0]"
   ]
  },
  {
   "cell_type": "code",
   "execution_count": 114,
   "metadata": {},
   "outputs": [
    {
     "data": {
      "text/plain": [
       "5"
      ]
     },
     "execution_count": 114,
     "metadata": {},
     "output_type": "execute_result"
    }
   ],
   "source": [
    "#Using elbow method and detecting elbow at less than 25% change\n",
    "chk = 0\n",
    "i_for_k = 0\n",
    "for i in range(len(mean_distances) - 1):\n",
    "    if chk != 1:\n",
    "        if ((mean_distances[i] - mean_distances[i+1])/mean_distances[i]) < 0.25:\n",
    "            i_for_k = i\n",
    "            chk = 1\n",
    "if chk == 0:\n",
    "    i_for_k = len(mean_distances) - 1\n",
    "optimal_k = rng[i_for_k] \n",
    "optimal_k"
   ]
  },
  {
   "cell_type": "code",
   "execution_count": 112,
   "metadata": {},
   "outputs": [
    {
     "data": {
      "text/plain": [
       "0.3229613733905579"
      ]
     },
     "execution_count": 112,
     "metadata": {},
     "output_type": "execute_result"
    }
   ],
   "source": [
    "301/932"
   ]
  },
  {
   "cell_type": "code",
   "execution_count": 120,
   "metadata": {},
   "outputs": [],
   "source": [
    "def predict(model, test_data):\n",
    "    k = len(model[1])\n",
    "    n = test_data.shape[0]\n",
    "    centers = model[1]\n",
    "    clusters = np.empty(shape = n)\n",
    "    for i in range(n):\n",
    "            distances = np.empty(shape = k)\n",
    "            for j in range(k):\n",
    "                distances[j] = distance(centers[j,:], test_data[i,:])\n",
    "            clusters[i] = distances.argmin()\n",
    "    return clusters"
   ]
  },
  {
   "cell_type": "code",
   "execution_count": 132,
   "metadata": {},
   "outputs": [],
   "source": [
    "test = pd.read_csv('test_expr.txt', sep = '\\t', index_col = 0)\n",
    "test = test.transpose()\n",
    "test_v = test.values\n",
    "train_t = t_train.values\n",
    "model_optimal = myKmeans(train_t, optimal_k, train_t[0:optimal_k,],10)"
   ]
  },
  {
   "cell_type": "code",
   "execution_count": 128,
   "metadata": {},
   "outputs": [],
   "source": [
    "y_pred = predict(model_optimal,test_v)"
   ]
  },
  {
   "cell_type": "code",
   "execution_count": 134,
   "metadata": {},
   "outputs": [
    {
     "data": {
      "text/plain": [
       "Index(['GTEX-ZYW4-1526-SM-5SIBA', 'GTEX-WVJS-0226-SM-4MVOU',\n",
       "       'GTEX-WY7C-0226-SM-3NB37', 'GTEX-RVPU-0005-SM-2TF6L',\n",
       "       'GTEX-145ME-1926-SM-5SI9S', 'GTEX-SNOS-0006-SM-32PLH',\n",
       "       'GTEX-QEG5-0006-SM-2I5FZ', 'GTEX-Z9EW-1826-SM-5CVMA',\n",
       "       'GTEX-W5WG-2526-SM-4SOJ2', 'GTEX-11XUK-2126-SM-5EQLR',\n",
       "       ...\n",
       "       'GTEX-11EMC-0226-SM-5EGLP', 'GTEX-W5WG-1426-SM-4KKZP',\n",
       "       'GTEX-SNOS-0226-SM-32PLR', 'GTEX-RTLS-0626-SM-5SI7Z',\n",
       "       'GTEX-11ZVC-2626-SM-5FQTA', 'GTEX-11OC5-0326-SM-5PNW5',\n",
       "       'GTEX-S4UY-0226-SM-3K2AP', 'GTEX-1399T-2426-SM-5L3FJ',\n",
       "       'GTEX-ZLWG-2226-SM-5DUWO', 'GTEX-1477Z-0005-SM-5PNWD'],\n",
       "      dtype='object', length=727)"
      ]
     },
     "execution_count": 134,
     "metadata": {},
     "output_type": "execute_result"
    }
   ],
   "source": [
    "test.index"
   ]
  },
  {
   "cell_type": "code",
   "execution_count": 143,
   "metadata": {},
   "outputs": [],
   "source": [
    "f = open('testwrite.txt','w')\n",
    "for i in range(len(y_pred)):\n",
    "    line = str(test.index[i]) + '\\t' + str(y_pred[i]) + '\\n'\n",
    "    f.write(line)\n",
    "f.close()"
   ]
  },
  {
   "cell_type": "code",
   "execution_count": 146,
   "metadata": {},
   "outputs": [
    {
     "data": {
      "text/plain": [
       "5"
      ]
     },
     "execution_count": 146,
     "metadata": {},
     "output_type": "execute_result"
    }
   ],
   "source": [
    "a = '5'\n",
    "int(a)"
   ]
  },
  {
   "cell_type": "code",
   "execution_count": 63,
   "metadata": {},
   "outputs": [],
   "source": [
    "values = np.array([1,2,3,1,2,4,5,6,3,2,1])\n",
    "searchval = 3\n",
    "ii = np.where(values == searchval)[0]\n",
    "#np.mean(t_train.as_matrix()[ii,:], axis = 0)"
   ]
  },
  {
   "cell_type": "code",
   "execution_count": 19,
   "metadata": {},
   "outputs": [
    {
     "data": {
      "text/plain": [
       "10.997409469503662"
      ]
     },
     "execution_count": 19,
     "metadata": {},
     "output_type": "execute_result"
    }
   ],
   "source": [
    "r1 = t_train.iloc[0]\n",
    "r2 = t_train.iloc[1]\n",
    "np.linalg.norm(r1 - r2)\n",
    "#np.sqrt(np.sum((r1 - r2)**2))"
   ]
  }
 ],
 "metadata": {
  "kernelspec": {
   "display_name": "Python 3",
   "language": "python",
   "name": "python3"
  },
  "language_info": {
   "codemirror_mode": {
    "name": "ipython",
    "version": 3
   },
   "file_extension": ".py",
   "mimetype": "text/x-python",
   "name": "python",
   "nbconvert_exporter": "python",
   "pygments_lexer": "ipython3",
   "version": "3.6.8"
  }
 },
 "nbformat": 4,
 "nbformat_minor": 2
}
