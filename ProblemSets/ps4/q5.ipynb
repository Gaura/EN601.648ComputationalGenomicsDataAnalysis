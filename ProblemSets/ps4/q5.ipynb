{
 "cells": [
  {
   "cell_type": "code",
   "execution_count": 25,
   "metadata": {},
   "outputs": [],
   "source": [
    "import numpy as np\n",
    "import pandas as pd\n",
    "from numpy import linalg"
   ]
  },
  {
   "cell_type": "code",
   "execution_count": 5,
   "metadata": {},
   "outputs": [],
   "source": [
    "gmm = pd.read_csv('gmm.csv')"
   ]
  },
  {
   "cell_type": "code",
   "execution_count": 7,
   "metadata": {},
   "outputs": [
    {
     "data": {
      "text/html": [
       "<div>\n",
       "<style scoped>\n",
       "    .dataframe tbody tr th:only-of-type {\n",
       "        vertical-align: middle;\n",
       "    }\n",
       "\n",
       "    .dataframe tbody tr th {\n",
       "        vertical-align: top;\n",
       "    }\n",
       "\n",
       "    .dataframe thead th {\n",
       "        text-align: right;\n",
       "    }\n",
       "</style>\n",
       "<table border=\"1\" class=\"dataframe\">\n",
       "  <thead>\n",
       "    <tr style=\"text-align: right;\">\n",
       "      <th></th>\n",
       "      <th>X1</th>\n",
       "      <th>X2</th>\n",
       "      <th>X3</th>\n",
       "      <th>X4</th>\n",
       "      <th>X5</th>\n",
       "      <th>X6</th>\n",
       "      <th>X7</th>\n",
       "      <th>X8</th>\n",
       "      <th>X9</th>\n",
       "      <th>X10</th>\n",
       "    </tr>\n",
       "  </thead>\n",
       "  <tbody>\n",
       "    <tr>\n",
       "      <th>0</th>\n",
       "      <td>8.074939</td>\n",
       "      <td>17.969001</td>\n",
       "      <td>-2.501638</td>\n",
       "      <td>5.134277</td>\n",
       "      <td>3.482768</td>\n",
       "      <td>-0.171594</td>\n",
       "      <td>0.129623</td>\n",
       "      <td>7.484980</td>\n",
       "      <td>9.399486</td>\n",
       "      <td>13.428349</td>\n",
       "    </tr>\n",
       "    <tr>\n",
       "      <th>1</th>\n",
       "      <td>13.345054</td>\n",
       "      <td>25.282213</td>\n",
       "      <td>-1.171289</td>\n",
       "      <td>10.777469</td>\n",
       "      <td>4.532955</td>\n",
       "      <td>4.412822</td>\n",
       "      <td>5.634544</td>\n",
       "      <td>8.712758</td>\n",
       "      <td>9.353174</td>\n",
       "      <td>15.517515</td>\n",
       "    </tr>\n",
       "    <tr>\n",
       "      <th>2</th>\n",
       "      <td>11.899930</td>\n",
       "      <td>20.527309</td>\n",
       "      <td>-1.416896</td>\n",
       "      <td>7.783895</td>\n",
       "      <td>2.992181</td>\n",
       "      <td>1.770371</td>\n",
       "      <td>4.106153</td>\n",
       "      <td>9.805188</td>\n",
       "      <td>9.499477</td>\n",
       "      <td>13.822169</td>\n",
       "    </tr>\n",
       "    <tr>\n",
       "      <th>3</th>\n",
       "      <td>12.693333</td>\n",
       "      <td>25.996822</td>\n",
       "      <td>2.812040</td>\n",
       "      <td>12.817708</td>\n",
       "      <td>8.764001</td>\n",
       "      <td>4.490621</td>\n",
       "      <td>8.358906</td>\n",
       "      <td>13.285221</td>\n",
       "      <td>11.993977</td>\n",
       "      <td>20.658841</td>\n",
       "    </tr>\n",
       "    <tr>\n",
       "      <th>4</th>\n",
       "      <td>14.605637</td>\n",
       "      <td>20.885004</td>\n",
       "      <td>0.483283</td>\n",
       "      <td>9.327261</td>\n",
       "      <td>5.427967</td>\n",
       "      <td>2.618588</td>\n",
       "      <td>6.654820</td>\n",
       "      <td>10.987585</td>\n",
       "      <td>13.028879</td>\n",
       "      <td>17.431384</td>\n",
       "    </tr>\n",
       "  </tbody>\n",
       "</table>\n",
       "</div>"
      ],
      "text/plain": [
       "          X1         X2        X3         X4        X5        X6        X7  \\\n",
       "0   8.074939  17.969001 -2.501638   5.134277  3.482768 -0.171594  0.129623   \n",
       "1  13.345054  25.282213 -1.171289  10.777469  4.532955  4.412822  5.634544   \n",
       "2  11.899930  20.527309 -1.416896   7.783895  2.992181  1.770371  4.106153   \n",
       "3  12.693333  25.996822  2.812040  12.817708  8.764001  4.490621  8.358906   \n",
       "4  14.605637  20.885004  0.483283   9.327261  5.427967  2.618588  6.654820   \n",
       "\n",
       "          X8         X9        X10  \n",
       "0   7.484980   9.399486  13.428349  \n",
       "1   8.712758   9.353174  15.517515  \n",
       "2   9.805188   9.499477  13.822169  \n",
       "3  13.285221  11.993977  20.658841  \n",
       "4  10.987585  13.028879  17.431384  "
      ]
     },
     "execution_count": 7,
     "metadata": {},
     "output_type": "execute_result"
    }
   ],
   "source": [
    "gmm.head()"
   ]
  },
  {
   "cell_type": "code",
   "execution_count": 9,
   "metadata": {},
   "outputs": [
    {
     "data": {
      "text/plain": [
       "(300, 10)"
      ]
     },
     "execution_count": 9,
     "metadata": {},
     "output_type": "execute_result"
    }
   ],
   "source": [
    "gmm.shape"
   ]
  },
  {
   "cell_type": "code",
   "execution_count": 11,
   "metadata": {},
   "outputs": [],
   "source": [
    "k = 10\n",
    "max_iter = 10\n",
    "conv_to = 0.01"
   ]
  },
  {
   "cell_type": "code",
   "execution_count": 142,
   "metadata": {},
   "outputs": [],
   "source": [
    "def pdf_multivar_normal(x,mu,sigma):\n",
    "    sigma_inv =linalg.inv(sigma)\n",
    "    x = x.values\n",
    "    mu = mu\n",
    "    t33 = np.matmul((x - mu),np.matmul(sigma_inv,(x - mu).transpose()))\n",
    "    d = x.shape[0] #Number of dimensions\n",
    "    pi = np.pi\n",
    "    t1 = 1/np.sqrt(np.power(2*pi,d))\n",
    "    #print(t1)\n",
    "    t2 = 1/np.sqrt(linalg.det(sigma))\n",
    "    #print(t2)\n",
    "    t3 = np.exp(-0.5*t33)\n",
    "    #print(t3)\n",
    "    return(t1*t2*t3)"
   ]
  },
  {
   "cell_type": "code",
   "execution_count": 63,
   "metadata": {},
   "outputs": [
    {
     "data": {
      "text/plain": [
       "0.03826298199880557"
      ]
     },
     "execution_count": 63,
     "metadata": {},
     "output_type": "execute_result"
    }
   ],
   "source": [
    "mu = np.array([1,2])\n",
    "x = np.array([-0.7565196, 1.1259365])\n",
    "sigma = np.array([[4,2],[2,3]])\n",
    "sigma_inv =linalg.inv(sigma)\n",
    "np.matmul(sigma, sigma_inv)\n",
    "np.matmul((x - mu).transpose(),np.matmul(sigma_inv,(x - mu)))\n",
    "pdf_multivar_normal(x,mu,sigma)"
   ]
  },
  {
   "cell_type": "code",
   "execution_count": 185,
   "metadata": {},
   "outputs": [],
   "source": [
    "#Considering converting the df to values in the beginning\n",
    "#E Step\n",
    "np.random.seed(100)\n",
    "pi = np.random.uniform(size = k) #array of probabilities of a cluster\n",
    "mu = gmm.iloc[0:k,:].values\n",
    "soft_assignments = np.zeros((300,k))\n",
    "cov_mats = []\n",
    "for i in range(k):\n",
    "    cov_mats.append(np.identity(gmm.shape[1]))\n",
    "for iteration in range(1):\n",
    "    for i in range(gmm.shape[0]):\n",
    "        #print(i)\n",
    "        marginal_xi = marginal_x(pi,gmm.iloc[i,:],mu,cov_mats,k)\n",
    "        for j in range(k):\n",
    "            soft_assignments[i,j] = pi[j]*pdf_multivar_normal(gmm.iloc[i,:],mu[j],cov_mats[j])\n",
    "    #M Step\n",
    "    for j in range(k):\n",
    "        Nj = np.sum(soft_assignments[:,j])\n",
    "        numerator = 0\n",
    "        for m in range(gmm.shape[0]):\n",
    "            numerator += soft_assignments[m,j]*gmm.iloc[]"
   ]
  },
  {
   "cell_type": "code",
   "execution_count": 189,
   "metadata": {},
   "outputs": [
    {
     "data": {
      "text/plain": [
       "5.960136705071505e-07"
      ]
     },
     "execution_count": 189,
     "metadata": {},
     "output_type": "execute_result"
    }
   ],
   "source": [
    "soft_assignments\n",
    "np.sum(soft_assignments[:,4])"
   ]
  },
  {
   "cell_type": "code",
   "execution_count": 190,
   "metadata": {},
   "outputs": [
    {
     "data": {
      "text/plain": [
       "300"
      ]
     },
     "execution_count": 190,
     "metadata": {},
     "output_type": "execute_result"
    }
   ],
   "source": [
    "gmm.shape[0]"
   ]
  },
  {
   "cell_type": "code",
   "execution_count": 158,
   "metadata": {},
   "outputs": [],
   "source": [
    "def marginal_x(pi,xn,mu,cov_mats,k):\n",
    "    marginal = 0\n",
    "    for j in range(k):\n",
    "        prob = pi[j]*pdf_multivar_normal(xn,mu[j],cov_mats[j])\n",
    "        #print(prob)\n",
    "        marginal += prob\n",
    "        #print(marginal)\n",
    "    return(marginal)"
   ]
  },
  {
   "cell_type": "code",
   "execution_count": 155,
   "metadata": {},
   "outputs": [
    {
     "data": {
      "text/plain": [
       "5.5491216007501824e-05"
      ]
     },
     "execution_count": 155,
     "metadata": {},
     "output_type": "execute_result"
    }
   ],
   "source": [
    "pdf_multivar_normal(gmm.iloc[0,:],mu[0],cov_mats[0])*pi[0]"
   ]
  },
  {
   "cell_type": "code",
   "execution_count": 156,
   "metadata": {},
   "outputs": [
    {
     "data": {
      "text/plain": [
       "array([0.54340494, 0.27836939, 0.42451759, 0.84477613, 0.00471886,\n",
       "       0.12156912, 0.67074908, 0.82585276, 0.13670659, 0.57509333])"
      ]
     },
     "execution_count": 156,
     "metadata": {},
     "output_type": "execute_result"
    }
   ],
   "source": [
    "pi"
   ]
  },
  {
   "cell_type": "code",
   "execution_count": 151,
   "metadata": {},
   "outputs": [
    {
     "name": "stdout",
     "output_type": "stream",
     "text": [
      "5.5491216007501824e-05\n",
      "5.5491216007501824e-05\n",
      "7.082262391591581e-43\n",
      "5.5491216007501824e-05\n",
      "5.6117461029959e-17\n",
      "5.549121600755794e-05\n",
      "5.726224402350633e-88\n",
      "5.549121600755794e-05\n",
      "1.1504073726924424e-44\n",
      "5.549121600755794e-05\n",
      "2.3643409761136266e-15\n",
      "5.549121600992228e-05\n",
      "6.077272231151359e-14\n",
      "5.5491216070695e-05\n",
      "1.632061865943302e-39\n",
      "5.5491216070695e-05\n",
      "1.999774016286288e-27\n",
      "5.5491216070695e-05\n",
      "1.0989762128177638e-30\n",
      "5.5491216070695e-05\n"
     ]
    },
    {
     "data": {
      "text/plain": [
       "5.5491216070695e-05"
      ]
     },
     "execution_count": 151,
     "metadata": {},
     "output_type": "execute_result"
    }
   ],
   "source": [
    "marginal_x(pi,gmm.iloc[0,:],mu,cov_mats,k)"
   ]
  },
  {
   "cell_type": "code",
   "execution_count": 108,
   "metadata": {},
   "outputs": [
    {
     "data": {
      "text/plain": [
       "2.5441958673742885e-42"
      ]
     },
     "execution_count": 108,
     "metadata": {},
     "output_type": "execute_result"
    }
   ],
   "source": [
    "pdf_multivar_normal(gmm.iloc[0,:],gmm.iloc[1,:],cov_mats[0])"
   ]
  },
  {
   "cell_type": "code",
   "execution_count": 105,
   "metadata": {},
   "outputs": [
    {
     "data": {
      "text/plain": [
       "array([13.34505399, 25.2822129 , -1.17128922, 10.77746931,  4.53295523,\n",
       "        4.41282194,  5.63454358,  8.71275827,  9.3531744 , 15.51751497])"
      ]
     },
     "execution_count": 105,
     "metadata": {},
     "output_type": "execute_result"
    }
   ],
   "source": [
    "x1 = gmm.iloc[1,:].values\n",
    "x1.transpose()"
   ]
  },
  {
   "cell_type": "code",
   "execution_count": 101,
   "metadata": {},
   "outputs": [
    {
     "data": {
      "text/plain": [
       "757.5803841460149"
      ]
     },
     "execution_count": 101,
     "metadata": {},
     "output_type": "execute_result"
    }
   ],
   "source": [
    "np.matmul(x1,np.matmul(np.identity(k),x1))"
   ]
  },
  {
   "cell_type": "code",
   "execution_count": 79,
   "metadata": {},
   "outputs": [],
   "source": []
  },
  {
   "cell_type": "code",
   "execution_count": 83,
   "metadata": {},
   "outputs": [
    {
     "data": {
      "text/plain": [
       "(10, 10)"
      ]
     },
     "execution_count": 83,
     "metadata": {},
     "output_type": "execute_result"
    }
   ],
   "source": []
  },
  {
   "cell_type": "code",
   "execution_count": null,
   "metadata": {},
   "outputs": [],
   "source": []
  }
 ],
 "metadata": {
  "kernelspec": {
   "display_name": "Python 3",
   "language": "python",
   "name": "python3"
  },
  "language_info": {
   "codemirror_mode": {
    "name": "ipython",
    "version": 3
   },
   "file_extension": ".py",
   "mimetype": "text/x-python",
   "name": "python",
   "nbconvert_exporter": "python",
   "pygments_lexer": "ipython3",
   "version": "3.6.8"
  }
 },
 "nbformat": 4,
 "nbformat_minor": 2
}
